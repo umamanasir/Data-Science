{
 "cells": [
  {
   "cell_type": "markdown",
   "id": "3a80b432-22ff-4911-96a6-9a88c5ede561",
   "metadata": {},
   "source": [
    "# Assignment 1 (Part 1)"
   ]
  },
  {
   "cell_type": "markdown",
   "id": "2678ccbe-eed1-4d9c-b8c5-33583c93834c",
   "metadata": {},
   "source": [
    "### Assignment Instructions"
   ]
  },
  {
   "cell_type": "markdown",
   "id": "d62fa0f1-3adc-4f5d-8996-c90517b0a7fb",
   "metadata": {},
   "source": [
    "* **How to install 'otter'**: Run `pip install otter-grader` in your Anaconda Command Prompt\n",
    "* **Otter**: It is an autograder that we will be using for grading your notebooks.\n",
    "* **grader.check('qn')**: This command runs test cases for nth question `qn` provided to you and displays the result. But these are not the only test cases, these are provided just for your basic testing. There will be some *hidden test cases* on which your answers will be tested as well.\n",
    "* You are **not** allowed to edit any pre-defined variables and as per the instructions for every question you have to assign your answers to these variables.\n",
    "* Write your answers in place of `...`"
   ]
  },
  {
   "cell_type": "markdown",
   "id": "14af02d0-706c-487a-a8b6-4eb01a4654b0",
   "metadata": {},
   "source": [
    "### Submission Instructions"
   ]
  },
  {
   "cell_type": "markdown",
   "id": "9d02881a-8208-40a6-baf8-dfe515b2dfa9",
   "metadata": {},
   "source": [
    "* There are two parts of this assignment. You should name both notebooks as **YourRollNumber_PartNumber.ipynb**. (e.g. this part should be named as *`2XXXXXXX_1.ipynb`*)\n",
    "* You must submit a zip file containg just two notebooks and it must not has any folder or any other file. \n",
    "* The name of the zip file must be your `RollNumber_PA1`"
   ]
  },
  {
   "cell_type": "code",
   "execution_count": 1,
   "id": "566ce114-bb44-483b-a8be-ead928c29819",
   "metadata": {},
   "outputs": [],
   "source": [
    "# Initialize Otter\n",
    "import otter\n",
    "grader = otter.Notebook()"
   ]
  },
  {
   "cell_type": "code",
   "execution_count": 2,
   "id": "259c00a9-5025-4507-9e25-1e85f98c2c5a",
   "metadata": {},
   "outputs": [],
   "source": [
    "# Import necessary libraries here\n",
    "import pandas as pd\n",
    "import numpy as np\n",
    "import math\n"
   ]
  },
  {
   "cell_type": "markdown",
   "id": "b8718785-19bd-4814-9619-05f2ec94aa3c",
   "metadata": {},
   "source": [
    "**Question 1:** We will attempt to create the table below. (`Note:` *name* is ***not*** an index_col)\n",
    "\n",
    "| name | sides | sum of interior angles | area of shape |\n",
    "|-----|-----|-----| -----|\n",
    "| Triangle | 3 | 180 | 0.433 | \n",
    "| Square | 4 | 360 | 1.000 |\n",
    "| Pentagon | 5 | 540 | 1.720 |\n",
    "| Hexagon | 6 | 720 | 2.598 |\n",
    "| Heptagon | 7 | 900 | 3.634 |\n",
    "| Octagon | 8 | 1080 | 4.828 |\n",
    "| Nonagon | 9 | 1260 | 6.182 |\n",
    "| Decagon | 10 | 1440 | 7.694 |"
   ]
  },
  {
   "cell_type": "markdown",
   "id": "5f3d7fc8-c59f-4f57-a567-ad7f2ee2b3e3",
   "metadata": {},
   "source": [
    "**a:** Generate a series with the names of the shapes. Assign it to the variable `name`."
   ]
  },
  {
   "cell_type": "code",
   "execution_count": 3,
   "id": "f8221430-1a83-47c0-8bee-115aa60c389a",
   "metadata": {},
   "outputs": [
    {
     "name": "stdout",
     "output_type": "stream",
     "text": [
      "0    Triangle\n",
      "1      Square\n",
      "2    Pentagon\n",
      "3     Hexagon\n",
      "4    Heptagon\n",
      "5     Octagon\n",
      "6     Nonagon\n",
      "7     Decagon\n",
      "dtype: object\n"
     ]
    }
   ],
   "source": [
    "#Please write your code below\n",
    "temp = ['Triangle', 'Square', 'Pentagon', 'Hexagon', 'Heptagon', 'Octagon', 'Nonagon', 'Decagon']\n",
    "name = pd.Series(temp)\n",
    "print(name) "
   ]
  },
  {
   "cell_type": "code",
   "execution_count": 5,
   "id": "deeed5d9",
   "metadata": {},
   "outputs": [
    {
     "data": {
      "text/html": [
       "<p><strong><pre style='display: inline;'>q1a</pre></strong> passed!</p>"
      ],
      "text/plain": [
       "q1a results: All test cases passed!"
      ]
     },
     "execution_count": 5,
     "metadata": {},
     "output_type": "execute_result"
    }
   ],
   "source": [
    "grader.check('q1a')"
   ]
  },
  {
   "cell_type": "markdown",
   "id": "42aa46e7-e91e-4bad-978a-d3fad5f28fea",
   "metadata": {},
   "source": [
    "**b:** Generate a series that contains the number of sides of the shapes given above. Assign it to `sides`. (You are not allowed to hardcode)."
   ]
  },
  {
   "cell_type": "code",
   "execution_count": null,
   "id": "f377d322-ad9c-4bb2-bcc8-cf1d6b3fd2b9",
   "metadata": {},
   "outputs": [],
   "source": [
    "#Please write your code below\n",
    "temp = []\n",
    "for i in range (3, len(name)+3):\n",
    "    temp.append(i)\n",
    "\n",
    "sides = pd.Series(temp)\n",
    "print(sides)"
   ]
  },
  {
   "cell_type": "code",
   "execution_count": 14,
   "id": "ef5c45eb",
   "metadata": {},
   "outputs": [
    {
     "data": {
      "text/html": [
       "<p><strong><pre style='display: inline;'>q1b</pre></strong> passed!</p>"
      ],
      "text/plain": [
       "q1b results: All test cases passed!"
      ]
     },
     "execution_count": 14,
     "metadata": {},
     "output_type": "execute_result"
    }
   ],
   "source": [
    "grader.check('q1b')"
   ]
  },
  {
   "cell_type": "markdown",
   "id": "15604647-9c6b-41cb-a600-4a694bdb9b9b",
   "metadata": {},
   "source": [
    "**c:** Using the above series generate a series that contains the sum of interior angles for each shape. Recall: sum of interior angles is given by \n",
    "$$ sum Of Interior Angles = 180(n - 2) $$\n",
    "where n is the number of sides of the shape. Assign it to the variable `sumOfInteriorAngles`. (You are not allowed to hardcode)."
   ]
  },
  {
   "cell_type": "code",
   "execution_count": 16,
   "id": "d1fe961f-b896-4922-8de6-0bc67cf5012a",
   "metadata": {},
   "outputs": [],
   "source": [
    "#Please write your code below\n",
    "temp = []\n",
    "for i in range(len(sides)):\n",
    "    temp.append( 180 * (sides[i] - 2))\n",
    "    \n",
    "sumOfInteriorAngles = pd.Series(temp)"
   ]
  },
  {
   "cell_type": "code",
   "execution_count": 17,
   "id": "db78194c",
   "metadata": {},
   "outputs": [
    {
     "data": {
      "text/html": [
       "<p><strong><pre style='display: inline;'>q1c</pre></strong> passed!</p>"
      ],
      "text/plain": [
       "q1c results: All test cases passed!"
      ]
     },
     "execution_count": 17,
     "metadata": {},
     "output_type": "execute_result"
    }
   ],
   "source": [
    "grader.check('q1c')"
   ]
  },
  {
   "cell_type": "markdown",
   "id": "458c4c11-3b67-4892-aba5-ab174a3496a6",
   "metadata": {},
   "source": [
    "**d:** Similarly, use `numpy.tan()` and the above series to generate a series that contains the area of each shape (correct to 3 decimal places) given that all their sides are 1 unit in length. $$Area = \\frac{n}{4}\\cot(\\frac{\\pi}{n})$$, where n is the number of sides. \n",
    "Assign it to the variable `areaOfShape`. (You are not allowed to hardcode)."
   ]
  },
  {
   "cell_type": "code",
   "execution_count": null,
   "id": "b404d215-0b25-4404-af90-c73863732bb6",
   "metadata": {},
   "outputs": [],
   "source": [
    "#Please write your code below\n",
    "temp = []\n",
    "for i in range(len(sides)):\n",
    "    temp.append( round ( ((sides[i] / 4) * (1/np.tan(math.pi / sides[i]))), 3))\n",
    "\n",
    "areaOfShape = pd.Series(temp)    \n",
    "print(areaOfShape)"
   ]
  },
  {
   "cell_type": "code",
   "execution_count": 26,
   "id": "9ccf4da1",
   "metadata": {},
   "outputs": [
    {
     "data": {
      "text/html": [
       "<p><strong><pre style='display: inline;'>q1d</pre></strong> passed!</p>"
      ],
      "text/plain": [
       "q1d results: All test cases passed!"
      ]
     },
     "execution_count": 26,
     "metadata": {},
     "output_type": "execute_result"
    }
   ],
   "source": [
    "grader.check('q1d')"
   ]
  },
  {
   "cell_type": "markdown",
   "id": "e088db7b-9053-47d0-8847-c2d6337ad238",
   "metadata": {},
   "source": [
    "**e:** Finally, use all the above created series to create the dataframe shown above. Assign it to `shapesData`."
   ]
  },
  {
   "cell_type": "code",
   "execution_count": 27,
   "id": "add9f8a3-f7fb-47d8-b594-a3ca2002dc94",
   "metadata": {},
   "outputs": [],
   "source": [
    "#Please write your code below\n",
    "frame = {\"name\": name, \"sides\":sides,  \"sum of interior angles\" :sumOfInteriorAngles, \"area of shape\": areaOfShape}\n",
    "shapesData = pd.DataFrame(frame)"
   ]
  },
  {
   "cell_type": "code",
   "execution_count": 28,
   "id": "3a8b2fdc",
   "metadata": {},
   "outputs": [
    {
     "data": {
      "text/html": [
       "<p><strong><pre style='display: inline;'>q1e</pre></strong> passed!</p>"
      ],
      "text/plain": [
       "q1e results: All test cases passed!"
      ]
     },
     "execution_count": 28,
     "metadata": {},
     "output_type": "execute_result"
    }
   ],
   "source": [
    "grader.check('q1e')"
   ]
  },
  {
   "cell_type": "markdown",
   "id": "83a8755c-b99f-4d7c-9343-f95c9aed2053",
   "metadata": {},
   "source": [
    "John's archnemesis Jim recently bought a camera. John is jealous of Jim and wants to buy a better camera. After fretting over it for hours, John asks you to help him find it."
   ]
  },
  {
   "cell_type": "markdown",
   "id": "9fc89c95-3e2c-4341-b490-2e76502a5be1",
   "metadata": {},
   "source": [
    "**Question 2:** Read dataset from `camera.csv` and assign this dataframe to `camerasData`. Note: `Model` is the index column."
   ]
  },
  {
   "cell_type": "code",
   "execution_count": 4,
   "id": "36e3f641-d2ea-4af3-af75-3584f1108882",
   "metadata": {},
   "outputs": [],
   "source": [
    "#Please write your code below\n",
    " \n",
    "camerasData = pd.read_csv('camera.csv')\n",
    "camerasData = camerasData.set_index('Model')\n",
    "camerasData =camerasData.fillna(0)\n"
   ]
  },
  {
   "cell_type": "code",
   "execution_count": 11,
   "id": "0e1b12eb",
   "metadata": {},
   "outputs": [
    {
     "data": {
      "text/html": [
       "<p><strong><pre style='display: inline;'>q2</pre></strong> passed!</p>"
      ],
      "text/plain": [
       "q2 results: All test cases passed!"
      ]
     },
     "execution_count": 11,
     "metadata": {},
     "output_type": "execute_result"
    }
   ],
   "source": [
    "grader.check('q2')"
   ]
  },
  {
   "cell_type": "markdown",
   "id": "99a87304-ed88-4c18-b1ce-f86d181d6ad6",
   "metadata": {},
   "source": [
    "John tells you that jim's camera was made in 2000 and he wants a newer one."
   ]
  },
  {
   "cell_type": "markdown",
   "id": "103011e2-d262-45ea-9d19-29a92e190443",
   "metadata": {},
   "source": [
    "**Question 3:** Filter the dataset to include only cameras made after 2000. Drop the release date column since its of no more use. Assign the filtered dataset to `camerasFiltered`."
   ]
  },
  {
   "cell_type": "code",
   "execution_count": 5,
   "id": "c08faeb2-28e4-46f3-9f81-544dc4ac7ecf",
   "metadata": {},
   "outputs": [],
   "source": [
    "#Please write your code below\n",
    "camerasFiltered = camerasData.loc[camerasData['Release date'] > 2000 ]\n",
    "camerasFiltered = camerasFiltered.drop(\"Release date\", axis=1)\n",
    "\n"
   ]
  },
  {
   "cell_type": "code",
   "execution_count": 13,
   "id": "064897d7",
   "metadata": {},
   "outputs": [
    {
     "data": {
      "text/html": [
       "<p><strong><pre style='display: inline;'>q3</pre></strong> passed!</p>"
      ],
      "text/plain": [
       "q3 results: All test cases passed!"
      ]
     },
     "execution_count": 13,
     "metadata": {},
     "output_type": "execute_result"
    }
   ],
   "source": [
    "grader.check('q3')"
   ]
  },
  {
   "cell_type": "markdown",
   "id": "c2f81ae8-2c27-4f75-ae6b-e1e4bd8c8c35",
   "metadata": {},
   "source": [
    "Initially you ask john to assign a preference value (1 to 5) to each of the camera characterstics (except price). He gives you this list\n",
    "\n",
    "| characterstic | preference value |\n",
    "|-----|-----|\n",
    "| Max resolution | 4 |\n",
    "| Low resolution | 2 |\n",
    "| Effective pixels | 5 |\n",
    "| Zoom wide (W) | 4 |\n",
    "| Zoom tele (T) | 3 |\n",
    "| Normal focus range | 1 |\n",
    "| Macro focus range | 4 |\n",
    "| Storage included | 2 |\n",
    "| Weight (inc. batteries) | 3 |\n",
    "| Dimensions | 4 |"
   ]
  },
  {
   "cell_type": "markdown",
   "id": "191ea398-3f81-453d-bdd8-8ba8efc53052",
   "metadata": {},
   "source": [
    "**Question 4a** Write a function `calculate` that calculates the score for a camera row by multiplying the preference values with the corresponding characterstics."
   ]
  },
  {
   "cell_type": "code",
   "execution_count": 7,
   "id": "94d5bdd3-8087-456e-a0d9-7027ff629ff1",
   "metadata": {},
   "outputs": [],
   "source": [
    "# Please write your code below\n",
    "def calculate(row): \n",
    "    preference = [4,2,5,4,3,1,4,2,3,4]\n",
    "    like = 0\n",
    "    for i in range(len(preference)):\n",
    "        like = like +  (row[i] * preference[i])\n",
    "    return like   \n",
    "    "
   ]
  },
  {
   "cell_type": "code",
   "execution_count": 42,
   "id": "7cf9151e",
   "metadata": {},
   "outputs": [
    {
     "data": {
      "text/html": [
       "<p><strong><pre style='display: inline;'>q4a</pre></strong> passed!</p>"
      ],
      "text/plain": [
       "q4a results: All test cases passed!"
      ]
     },
     "execution_count": 42,
     "metadata": {},
     "output_type": "execute_result"
    }
   ],
   "source": [
    "grader.check('q4a')"
   ]
  },
  {
   "cell_type": "markdown",
   "id": "3188c2d9-cf98-45cb-a373-4a5b2ef9e66f",
   "metadata": {},
   "source": [
    "**Question 4b** Make a new dataframe with scores for each of the filtered cameras and their price. Note: Order should be `score`, `price` with `Model` as index. Assign it to `camerasScores`."
   ]
  },
  {
   "cell_type": "code",
   "execution_count": 10,
   "id": "88a5a4e7-c1d5-466a-aec6-3099d0a4f002",
   "metadata": {},
   "outputs": [],
   "source": [
    "#Please write your code below\n",
    "scoreList = []\n",
    "priceList = []\n",
    "modelList = []\n",
    "\n",
    "for i in range(len(camerasFiltered)):\n",
    "        score = calculate(camerasFiltered.iloc[i])\n",
    "        scoreList.append(score)\n",
    "        modelList.append(camerasFiltered.index[i])\n",
    "        priceList.append(camerasFiltered['Price'].values[i])        \n",
    "\n",
    "dict = {'Model': modelList, 'price': priceList, 'score': scoreList}\n",
    "camerasScores = pd.DataFrame(dict)\n",
    "camerasScores = camerasScores.set_index('Model')\n"
   ]
  },
  {
   "cell_type": "code",
   "execution_count": 89,
   "id": "795a321a",
   "metadata": {},
   "outputs": [
    {
     "data": {
      "text/html": [
       "<p><strong><pre style='display: inline;'>q4b</pre></strong> passed!</p>"
      ],
      "text/plain": [
       "q4b results: All test cases passed!"
      ]
     },
     "execution_count": 89,
     "metadata": {},
     "output_type": "execute_result"
    }
   ],
   "source": [
    "grader.check('q4b')"
   ]
  },
  {
   "cell_type": "markdown",
   "id": "4f07eb70-5eea-453a-ad23-3f5ef6252d4e",
   "metadata": {},
   "source": [
    "**Question 4c** John wants a camera with a score atleast 1 standard deviation above the mean camera score. Make a series of all such cameras with their `Model` as index and their `price` only (you not allowed to use std() or mean()). Assign it to `bestCameras`. Find the cheapest camera models as list with this constraint assign their models as list to `cheapestBestCameras`."
   ]
  },
  {
   "cell_type": "code",
   "execution_count": 11,
   "id": "d39b4633-de63-4e7b-bb1b-f817272f75ab",
   "metadata": {},
   "outputs": [],
   "source": [
    "#Please write your code below\n",
    "#find mean camera score.\n",
    " \n",
    "from math import sqrt \n",
    "def mean():\n",
    "    mean = sum(scoreList) / len(scoreList)\n",
    "    return mean\n",
    "\n",
    "def stdDev (camerasPrice):\n",
    "    ave = mean()\n",
    "    sum = 0\n",
    "    for i in range(len(camerasPrice)):\n",
    "        diff = (camerasPrice[i] - ave)**2 #get sq of difference \n",
    "        sum = sum + diff \n",
    "    \n",
    "    stdev = sqrt(sum/len(camerasPrice))\n",
    "    return stdev \n",
    "\n",
    "\n",
    "dev = stdDev(scoreList)\n",
    "ave = mean()         \n",
    "bestCameras = camerasScores[camerasScores['score'] > ave+dev]\n",
    "bestCameras = bestCameras.drop('score', axis = 1)\n",
    "\n",
    "\n",
    "cheapestBestCameras = bestCameras[bestCameras.price == bestCameras.price.min()]\n",
    "cheapestBestCameras = cheapestBestCameras.index.values\n"
   ]
  },
  {
   "cell_type": "code",
   "execution_count": 45,
   "id": "73e80bf4",
   "metadata": {},
   "outputs": [
    {
     "data": {
      "text/html": [
       "<p><strong><pre style='display: inline;'>q4c</pre></strong> passed!</p>"
      ],
      "text/plain": [
       "q4c results: All test cases passed!"
      ]
     },
     "execution_count": 45,
     "metadata": {},
     "output_type": "execute_result"
    }
   ],
   "source": [
    "grader.check('q4c')"
   ]
  },
  {
   "cell_type": "markdown",
   "id": "7dd9a878",
   "metadata": {},
   "source": [
    "Unfortunately, the cameras you found had lower scores than Jim's camera. So you come up with another sureshot approach, Jim's camera is the **Canon PowerShot A640**. You compare the characterstics (except price) between every camera and Jim's camera. The better camera will ofcourse have more characterstics with a higher value."
   ]
  },
  {
   "cell_type": "markdown",
   "id": "5c1ea4b9",
   "metadata": {},
   "source": [
    "**Question 5a** Write a function `compare` that compares a camera with jim's camera and returns True only if Jim's camera is worse."
   ]
  },
  {
   "cell_type": "code",
   "execution_count": 54,
   "id": "91f384bf",
   "metadata": {},
   "outputs": [
    {
     "data": {
      "text/plain": [
       "True"
      ]
     },
     "execution_count": 54,
     "metadata": {},
     "output_type": "execute_result"
    }
   ],
   "source": [
    "#Please write your code below\n",
    "def compare(otherCamera): \n",
    "    jCamera = camerasFiltered.loc['Canon PowerShot A640'].tolist()\n",
    "    otherCamera = otherCamera.tolist()\n",
    "    jScore = 0\n",
    "    oScore = 0\n",
    "    for i in range(10):\n",
    "        if (jCamera[i] > otherCamera[i]):\n",
    "            jScore = jScore + 1\n",
    "        elif (jCamera[i] < otherCamera[i]):\n",
    "            oScore = oScore + 1 \n",
    "    if(oScore > jScore and oScore > 5):\n",
    "        return True\n",
    "    else:\n",
    "        return False\n",
    "\n",
    "compare(camerasFiltered.loc['Canon PowerShot SD950 IS'])"
   ]
  },
  {
   "cell_type": "code",
   "execution_count": 42,
   "id": "2c6da6d9",
   "metadata": {},
   "outputs": [
    {
     "data": {
      "text/html": [
       "<p><strong><pre style='display: inline;'>q5a</pre></strong> passed!</p>"
      ],
      "text/plain": [
       "q5a results: All test cases passed!"
      ]
     },
     "execution_count": 42,
     "metadata": {},
     "output_type": "execute_result"
    }
   ],
   "source": [
    "grader.check('q5a')"
   ]
  },
  {
   "cell_type": "markdown",
   "id": "4addd25a",
   "metadata": {},
   "source": [
    "**Question 5b** Generate a dataframe with model as the index, a column named `better` that indicates whether a camera is better than Jim's camera and the `price` column (in that order). Assign it to `cameraComparison`."
   ]
  },
  {
   "cell_type": "code",
   "execution_count": 55,
   "id": "2b22ea40",
   "metadata": {},
   "outputs": [
    {
     "name": "stdout",
     "output_type": "stream",
     "text": [
      "846\n"
     ]
    }
   ],
   "source": [
    "#Please write your code below\n",
    "isBetter = []\n",
    "for i in range(len(camerasFiltered)): \n",
    "    isBetter.append(compare(camerasFiltered.iloc[i]))\n",
    "\n",
    "isBetter = pd.Series(isBetter)\n",
    "m = pd.Series(list(camerasFiltered.index))\n",
    "p = pd.Series(list(camerasFiltered['Price']))\n",
    "\n",
    "d = {\"Model\": m, \"better\": isBetter, \"price\": p}\n",
    "cameraComparison = pd.DataFrame(d)\n",
    "cameraComparison =  cameraComparison.set_index('Model')\n"
   ]
  },
  {
   "cell_type": "code",
   "execution_count": 56,
   "id": "6c0345b0",
   "metadata": {},
   "outputs": [
    {
     "data": {
      "text/html": [
       "<p><strong><pre style='display: inline;'>q5b</pre></strong> passed!</p>"
      ],
      "text/plain": [
       "q5b results: All test cases passed!"
      ]
     },
     "execution_count": 56,
     "metadata": {},
     "output_type": "execute_result"
    }
   ],
   "source": [
    "grader.check('q5b')"
   ]
  },
  {
   "cell_type": "markdown",
   "id": "8146ae8f",
   "metadata": {},
   "source": [
    "**Question 5c** Using the above dataframe from the cameras which are better than jim's camera, select all the cheapest ones and assign them as a list to `cheapestBetterCameras`."
   ]
  },
  {
   "cell_type": "code",
   "execution_count": 67,
   "id": "69657899",
   "metadata": {},
   "outputs": [],
   "source": [
    "#Please write your code below\n",
    "betterCameras = cameraComparison[cameraComparison['better'] == True]\n",
    "cheapestBetterCameras = betterCameras[betterCameras.price == betterCameras.price.min()]\n",
    "cheapestBetterCameras = cheapestBetterCameras.index.values\n"
   ]
  },
  {
   "cell_type": "code",
   "execution_count": 68,
   "id": "5e349369",
   "metadata": {},
   "outputs": [
    {
     "data": {
      "text/html": [
       "<p><strong><pre style='display: inline;'>q5c</pre></strong> passed!</p>"
      ],
      "text/plain": [
       "q5c results: All test cases passed!"
      ]
     },
     "execution_count": 68,
     "metadata": {},
     "output_type": "execute_result"
    }
   ],
   "source": [
    "grader.check('q5c')"
   ]
  },
  {
   "cell_type": "markdown",
   "id": "d09b334f",
   "metadata": {},
   "source": [
    "**Question 6** As a data scientist it is important to justify your approach to solving a problem. You have you 2 different approaches to solve the problem above. Compare and contrast the 2 approaches."
   ]
  },
  {
   "cell_type": "code",
   "execution_count": null,
   "id": "fb3bd8b9",
   "metadata": {},
   "outputs": [],
   "source": [
    "##Please write you answer here\n",
    "\n",
    "# Both the approaches serve different purposes.\n",
    "# The first approach - calculate views the entire cameraData information and finds their likebility score. \n",
    "# This approach is more appropriate for someone looking to buy a camera for the first time and thus has a list of minimal criteria to meet. \n",
    "# The second approach - compare is more appropriate for someone looking to change their current camera, have relatively more features in the new camera\n",
    "# in the cheapest possible features. "
   ]
  }
 ],
 "metadata": {
  "kernelspec": {
   "display_name": "Python 3.9.13 64-bit (microsoft store)",
   "language": "python",
   "name": "python3"
  },
  "language_info": {
   "codemirror_mode": {
    "name": "ipython",
    "version": 3
   },
   "file_extension": ".py",
   "mimetype": "text/x-python",
   "name": "python",
   "nbconvert_exporter": "python",
   "pygments_lexer": "ipython3",
   "version": "3.9.13"
  },
  "vscode": {
   "interpreter": {
    "hash": "970a2a4939579a4c22872227820a264ec023ee5692739211cbaca24386397975"
   }
  }
 },
 "nbformat": 4,
 "nbformat_minor": 5
}
