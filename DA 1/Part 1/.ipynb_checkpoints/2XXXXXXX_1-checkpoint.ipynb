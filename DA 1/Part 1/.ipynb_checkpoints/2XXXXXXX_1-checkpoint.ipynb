{
 "cells": [
  {
   "cell_type": "markdown",
   "id": "3a80b432-22ff-4911-96a6-9a88c5ede561",
   "metadata": {},
   "source": [
    "# Assignment 1 (Part 1)"
   ]
  },
  {
   "cell_type": "markdown",
   "id": "2678ccbe-eed1-4d9c-b8c5-33583c93834c",
   "metadata": {},
   "source": [
    "### Assignment Instructions"
   ]
  },
  {
   "cell_type": "markdown",
   "id": "d62fa0f1-3adc-4f5d-8996-c90517b0a7fb",
   "metadata": {},
   "source": [
    "* **How to install 'otter'**: Run `pip install otter-grader` in your Anaconda Command Prompt\n",
    "* **Otter**: It is an autograder that we will be using for grading your notebooks.\n",
    "* **grader.check('qn')**: This command runs test cases for nth question `qn` provided to you and displays the result. But these are not the only test cases, these are provided just for your basic testing. There will be some *hidden test cases* on which your answers will be tested as well.\n",
    "* You are **not** allowed to edit any pre-defined variables and as per the instructions for every question you have to assign your answers to these variables.\n",
    "* Write your answers in place of `...`"
   ]
  },
  {
   "cell_type": "markdown",
   "id": "14af02d0-706c-487a-a8b6-4eb01a4654b0",
   "metadata": {},
   "source": [
    "### Submission Instructions"
   ]
  },
  {
   "cell_type": "markdown",
   "id": "9d02881a-8208-40a6-baf8-dfe515b2dfa9",
   "metadata": {},
   "source": [
    "* There are two parts of this assignment. You should name both notebooks as **YourRollNumber_PartNumber.ipynb**. (e.g. this part should be named as *`2XXXXXXX_1.ipynb`*)\n",
    "* You must submit a zip file containg just two notebooks and it must not has any folder or any other file. \n",
    "* The name of the zip file must be your `RollNumber_PA1`"
   ]
  },
  {
   "cell_type": "code",
   "execution_count": null,
   "id": "566ce114-bb44-483b-a8be-ead928c29819",
   "metadata": {},
   "outputs": [],
   "source": [
    "# Initialize Otter\n",
    "import otter\n",
    "grader = otter.Notebook()"
   ]
  },
  {
   "cell_type": "code",
   "execution_count": null,
   "id": "259c00a9-5025-4507-9e25-1e85f98c2c5a",
   "metadata": {},
   "outputs": [],
   "source": [
    "# Import necessary libraries here\n",
    "import pandas as pd\n",
    "import numpy as np"
   ]
  },
  {
   "cell_type": "markdown",
   "id": "b8718785-19bd-4814-9619-05f2ec94aa3c",
   "metadata": {},
   "source": [
    "**Question 1:** We will attempt to create the table below. (`Note:` *name* is ***not*** an index_col)\n",
    "\n",
    "| name | sides | sum of interior angles | area of shape |\n",
    "|-----|-----|-----| -----|\n",
    "| Triangle | 3 | 180 | 0.433 | \n",
    "| Square | 4 | 360 | 1.000 |\n",
    "| Pentagon | 5 | 540 | 1.720 |\n",
    "| Hexagon | 6 | 720 | 2.598 |\n",
    "| Heptagon | 7 | 900 | 3.634 |\n",
    "| Octagon | 8 | 1080 | 4.828 |\n",
    "| Nonagon | 9 | 1260 | 6.182 |\n",
    "| Decagon | 10 | 1440 | 7.694 |"
   ]
  },
  {
   "cell_type": "markdown",
   "id": "5f3d7fc8-c59f-4f57-a567-ad7f2ee2b3e3",
   "metadata": {},
   "source": [
    "**a:** Generate a series with the names of the shapes. Assign it to the variable `name`."
   ]
  },
  {
   "cell_type": "code",
   "execution_count": null,
   "id": "f8221430-1a83-47c0-8bee-115aa60c389a",
   "metadata": {},
   "outputs": [],
   "source": [
    "#Please write your code below"
   ]
  },
  {
   "cell_type": "code",
   "execution_count": null,
   "id": "deeed5d9",
   "metadata": {},
   "outputs": [],
   "source": [
    "grader.check('q1a')"
   ]
  },
  {
   "cell_type": "markdown",
   "id": "42aa46e7-e91e-4bad-978a-d3fad5f28fea",
   "metadata": {},
   "source": [
    "**b:** Generate a series that contains the number of sides of the shapes given above. Assign it to `sides`. (You are not allowed to hardcode)."
   ]
  },
  {
   "cell_type": "code",
   "execution_count": null,
   "id": "f377d322-ad9c-4bb2-bcc8-cf1d6b3fd2b9",
   "metadata": {},
   "outputs": [],
   "source": [
    "#Please write your code below"
   ]
  },
  {
   "cell_type": "code",
   "execution_count": null,
   "id": "ef5c45eb",
   "metadata": {},
   "outputs": [],
   "source": [
    "grader.check('q1b')"
   ]
  },
  {
   "cell_type": "markdown",
   "id": "15604647-9c6b-41cb-a600-4a694bdb9b9b",
   "metadata": {},
   "source": [
    "**c:** Using the above series generate a series that contains the sum of interior angles for each shape. Recall: sum of interior angles is given by \n",
    "$$ sum Of Interior Angles = 180(n - 2) $$\n",
    "where n is the number of sides of the shape. Assign it to the variable `sumOfInteriorAngles`. (You are not allowed to hardcode)."
   ]
  },
  {
   "cell_type": "code",
   "execution_count": null,
   "id": "d1fe961f-b896-4922-8de6-0bc67cf5012a",
   "metadata": {},
   "outputs": [],
   "source": [
    "#Please write your code below"
   ]
  },
  {
   "cell_type": "code",
   "execution_count": null,
   "id": "db78194c",
   "metadata": {},
   "outputs": [],
   "source": [
    "grader.check('q1c')"
   ]
  },
  {
   "cell_type": "markdown",
   "id": "458c4c11-3b67-4892-aba5-ab174a3496a6",
   "metadata": {},
   "source": [
    "**d:** Similarly, use `numpy.tan()` and the above series to generate a series that contains the area of each shape (correct to 3 decimal places) given that all their sides are 1 unit in length. $$Area = \\frac{n}{4}\\cot(\\frac{\\pi}{n})$$, where n is the number of sides. \n",
    "Assign it to the variable `areaOfShape`. (You are not allowed to hardcode)."
   ]
  },
  {
   "cell_type": "code",
   "execution_count": null,
   "id": "b404d215-0b25-4404-af90-c73863732bb6",
   "metadata": {},
   "outputs": [],
   "source": [
    "#Please write your code below"
   ]
  },
  {
   "cell_type": "code",
   "execution_count": null,
   "id": "9ccf4da1",
   "metadata": {},
   "outputs": [],
   "source": [
    "grader.check('q1d')"
   ]
  },
  {
   "cell_type": "markdown",
   "id": "e088db7b-9053-47d0-8847-c2d6337ad238",
   "metadata": {},
   "source": [
    "**e:** Finally, use all the above created series to create the dataframe shown above. Assign it to `shapesData`."
   ]
  },
  {
   "cell_type": "code",
   "execution_count": null,
   "id": "add9f8a3-f7fb-47d8-b594-a3ca2002dc94",
   "metadata": {},
   "outputs": [],
   "source": [
    "#Please write your code below"
   ]
  },
  {
   "cell_type": "code",
   "execution_count": null,
   "id": "3a8b2fdc",
   "metadata": {},
   "outputs": [],
   "source": [
    "grader.check('q1e')"
   ]
  },
  {
   "cell_type": "markdown",
   "id": "83a8755c-b99f-4d7c-9343-f95c9aed2053",
   "metadata": {},
   "source": [
    "John's archnemesis Jim recently bought a camera. John is jealous of Jim and wants to buy a better camera. After fretting over it for hours, John asks you to help him find it."
   ]
  },
  {
   "cell_type": "markdown",
   "id": "9fc89c95-3e2c-4341-b490-2e76502a5be1",
   "metadata": {},
   "source": [
    "**Question 2:** Read dataset from `camera.csv` and assign this dataframe to `camerasData`. Note: `Model` is the index column."
   ]
  },
  {
   "cell_type": "code",
   "execution_count": null,
   "id": "36e3f641-d2ea-4af3-af75-3584f1108882",
   "metadata": {},
   "outputs": [],
   "source": [
    "#Please write your code below"
   ]
  },
  {
   "cell_type": "code",
   "execution_count": null,
   "id": "0e1b12eb",
   "metadata": {},
   "outputs": [],
   "source": [
    "grader.check('q2')"
   ]
  },
  {
   "cell_type": "markdown",
   "id": "99a87304-ed88-4c18-b1ce-f86d181d6ad6",
   "metadata": {},
   "source": [
    "John tells you that jim's camera was made in 2000 and he wants a newer one."
   ]
  },
  {
   "cell_type": "markdown",
   "id": "103011e2-d262-45ea-9d19-29a92e190443",
   "metadata": {},
   "source": [
    "**Question 3:** Filter the dataset to include only cameras made after 2000. Drop the release date column since its of no more use. Assign the filtered dataset to `camerasFiltered`."
   ]
  },
  {
   "cell_type": "code",
   "execution_count": null,
   "id": "c08faeb2-28e4-46f3-9f81-544dc4ac7ecf",
   "metadata": {},
   "outputs": [],
   "source": [
    "#Please write your code below"
   ]
  },
  {
   "cell_type": "code",
   "execution_count": null,
   "id": "064897d7",
   "metadata": {},
   "outputs": [],
   "source": [
    "grader.check('q3')"
   ]
  },
  {
   "cell_type": "markdown",
   "id": "c2f81ae8-2c27-4f75-ae6b-e1e4bd8c8c35",
   "metadata": {},
   "source": [
    "Initially you ask john to assign a preference value (1 to 5) to each of the camera characterstics (except price). He gives you this list\n",
    "\n",
    "| characterstic | preference value |\n",
    "|-----|-----|\n",
    "| Max resolution | 4 |\n",
    "| Low resolution | 2 |\n",
    "| Effective pixels | 5 |\n",
    "| Zoom wide (W) | 4 |\n",
    "| Zoom tele (T) | 3 |\n",
    "| Normal focus range | 1 |\n",
    "| Macro focus range | 4 |\n",
    "| Storage included | 2 |\n",
    "| Weight (inc. batteries) | 3 |\n",
    "| Dimensions | 4 |"
   ]
  },
  {
   "cell_type": "markdown",
   "id": "191ea398-3f81-453d-bdd8-8ba8efc53052",
   "metadata": {},
   "source": [
    "**Question 4a** Write a function `calculate` that calculates the score for a camera row by multiplying the preference values with the corresponding characterstics."
   ]
  },
  {
   "cell_type": "code",
   "execution_count": null,
   "id": "94d5bdd3-8087-456e-a0d9-7027ff629ff1",
   "metadata": {},
   "outputs": [],
   "source": [
    "#Please write your code below"
   ]
  },
  {
   "cell_type": "code",
   "execution_count": null,
   "id": "7cf9151e",
   "metadata": {},
   "outputs": [],
   "source": [
    "grader.check('q4a')"
   ]
  },
  {
   "cell_type": "markdown",
   "id": "3188c2d9-cf98-45cb-a373-4a5b2ef9e66f",
   "metadata": {},
   "source": [
    "**Question 4b** Make a new dataframe with scores for each of the filtered cameras and their price. Note: Order should be `score`, `price` with `Model` as index. Assign it to `camerasScores`."
   ]
  },
  {
   "cell_type": "code",
   "execution_count": null,
   "id": "88a5a4e7-c1d5-466a-aec6-3099d0a4f002",
   "metadata": {},
   "outputs": [],
   "source": [
    "#Please write your code below"
   ]
  },
  {
   "cell_type": "code",
   "execution_count": null,
   "id": "795a321a",
   "metadata": {},
   "outputs": [],
   "source": [
    "grader.check('q4b')"
   ]
  },
  {
   "cell_type": "markdown",
   "id": "4f07eb70-5eea-453a-ad23-3f5ef6252d4e",
   "metadata": {},
   "source": [
    "**Question 4c** John wants a camera with a score atleast 1 standard deviation above the mean camera score. Make a series of all such cameras with their `Model` as index and their `price` only (you not allowed to use std() or mean()). Assign it to `bestCameras`. Find the cheapest camera models as list with this constraint assign their models as list to `cheapestBestCameras`."
   ]
  },
  {
   "cell_type": "code",
   "execution_count": null,
   "id": "d39b4633-de63-4e7b-bb1b-f817272f75ab",
   "metadata": {},
   "outputs": [],
   "source": [
    "#Please write your code below"
   ]
  },
  {
   "cell_type": "code",
   "execution_count": null,
   "id": "73e80bf4",
   "metadata": {},
   "outputs": [],
   "source": [
    "grader.check('q4c')"
   ]
  },
  {
   "cell_type": "markdown",
   "id": "7dd9a878",
   "metadata": {},
   "source": [
    "Unfortunately, the cameras you found had lower scores than Jim's camera. So you come up with another sureshot approach, Jim's camera is the **Canon PowerShot A640**. You compare the characterstics (except price) between every camera and Jim's camera. The better camera will ofcourse have more characterstics with a higher value."
   ]
  },
  {
   "cell_type": "markdown",
   "id": "5c1ea4b9",
   "metadata": {},
   "source": [
    "**Question 5a** Write a function `compare` that compares a camera with jim's camera and returns True only if Jim's camera is worse."
   ]
  },
  {
   "cell_type": "code",
   "execution_count": null,
   "id": "91f384bf",
   "metadata": {},
   "outputs": [],
   "source": [
    "#Please write your code below"
   ]
  },
  {
   "cell_type": "code",
   "execution_count": null,
   "id": "2c6da6d9",
   "metadata": {},
   "outputs": [],
   "source": [
    "grader.check('q5a')"
   ]
  },
  {
   "cell_type": "markdown",
   "id": "4addd25a",
   "metadata": {},
   "source": [
    "**Question 5b** Generate a dataframe with model as the index, a column named `better` that indicates whether a camera is better than Jim's camera and the `price` column (in that order). Assign it to `cameraComparison`."
   ]
  },
  {
   "cell_type": "code",
   "execution_count": null,
   "id": "2b22ea40",
   "metadata": {},
   "outputs": [],
   "source": [
    "#Please write your code below"
   ]
  },
  {
   "cell_type": "code",
   "execution_count": null,
   "id": "6c0345b0",
   "metadata": {},
   "outputs": [],
   "source": [
    "grader.check('q5b')"
   ]
  },
  {
   "cell_type": "markdown",
   "id": "8146ae8f",
   "metadata": {},
   "source": [
    "**Question 5c** Using the above dataframe from the cameras which are better than jim's camera, select all the cheapest ones and assign them as a list to `cheapestBetterCameras`."
   ]
  },
  {
   "cell_type": "code",
   "execution_count": null,
   "id": "69657899",
   "metadata": {},
   "outputs": [],
   "source": [
    "#Please write your code below"
   ]
  },
  {
   "cell_type": "code",
   "execution_count": null,
   "id": "5e349369",
   "metadata": {},
   "outputs": [],
   "source": [
    "grader.check('q5c')"
   ]
  },
  {
   "cell_type": "markdown",
   "id": "d09b334f",
   "metadata": {},
   "source": [
    "**Question 6** As a data scientist it is important to justify your approach to solving a problem. You have you 2 different approaches to solve the problem above. Compare and contrast the 2 approaches."
   ]
  },
  {
   "cell_type": "code",
   "execution_count": null,
   "id": "fb3bd8b9",
   "metadata": {},
   "outputs": [],
   "source": [
    "##Please write you answer here"
   ]
  }
 ],
 "metadata": {
  "kernelspec": {
   "display_name": "Python 3.9.13 64-bit (microsoft store)",
   "language": "python",
   "name": "python3"
  },
  "language_info": {
   "codemirror_mode": {
    "name": "ipython",
    "version": 3
   },
   "file_extension": ".py",
   "mimetype": "text/x-python",
   "name": "python",
   "nbconvert_exporter": "python",
   "pygments_lexer": "ipython3",
   "version": "3.9.13"
  },
  "vscode": {
   "interpreter": {
    "hash": "970a2a4939579a4c22872227820a264ec023ee5692739211cbaca24386397975"
   }
  }
 },
 "nbformat": 4,
 "nbformat_minor": 5
}
