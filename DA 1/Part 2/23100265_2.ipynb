{
 "cells": [
  {
   "cell_type": "markdown",
   "metadata": {},
   "source": [
    "<h1>Assignment 1 (Part 2)</h1>"
   ]
  },
  {
   "cell_type": "markdown",
   "metadata": {},
   "source": [
    "<h3>Assignment Instructions</h3>"
   ]
  },
  {
   "cell_type": "markdown",
   "metadata": {},
   "source": [
    "* **How to install 'otter'**: Run `pip install otter-grader` in your Anaconda Command Prompt\n",
    "* **Otter**: It is an autograder that we will be using for grading your notebooks.\n",
    "* **grader.check('qn')**: This command runs test cases for nth question `qn` provided to you and displays the result. But these are not the only test cases, these are provided just for your basic testing. There will be some *hidden test cases* on which your answers will be tested as well.\n",
    "* You are **not** allowed to edit any pre-defined variables and as per the instructions for every question you have to assign your answers to these variables.\n",
    "* Write your answers in place of `...`"
   ]
  },
  {
   "cell_type": "markdown",
   "metadata": {},
   "source": [
    "<h3>Submission Instructions</h3>"
   ]
  },
  {
   "cell_type": "markdown",
   "metadata": {},
   "source": [
    "* There are two parts of this assignment. You should name both notebooks as **YourRollNumber_PartNumber.ipynb**. (e.g. this part should be named as *`2XXXXXXX_2.ipynb`*)\n",
    "* You must submit a zip file containg just two notebooks and it must not has any folder or any other file. \n",
    "* The name of the zip file must be your `RollNumber_PA1`"
   ]
  },
  {
   "cell_type": "markdown",
   "metadata": {},
   "source": [
    "Please run the cell below to import all the necessary libraries that you would require for this part"
   ]
  },
  {
   "cell_type": "code",
   "execution_count": 1,
   "metadata": {},
   "outputs": [],
   "source": [
    "# Initialize Otter\n",
    "import otter\n",
    "grader = otter.Notebook()"
   ]
  },
  {
   "cell_type": "code",
   "execution_count": 2,
   "metadata": {},
   "outputs": [],
   "source": [
    "#Importing libraries\n",
    "import pandas as pd\n",
    "# import matplotlib as plt\n",
    "import matplotlib.pyplot as plt\n",
    "import numpy as np"
   ]
  },
  {
   "cell_type": "markdown",
   "metadata": {},
   "source": [
    "Given the rise in obesity we are aware that there is a huge chance that a person may be affected by the heart disease. In this assignment we are going to explore a dataset which contains information about individuals heart rate and oxygen saturation. In this part we are going to analyze the data and generate sufficent results from it."
   ]
  },
  {
   "cell_type": "markdown",
   "metadata": {},
   "source": [
    "Please load the two csv files inside the variables `heartDf` & `o2SaturationDf` using a relative command respectively"
   ]
  },
  {
   "cell_type": "code",
   "execution_count": 3,
   "metadata": {},
   "outputs": [],
   "source": [
    "\n",
    "#Please write your code below\n",
    "heartDf = pd.read_csv('heart.csv')\n",
    "heartDf = pd.DataFrame(heartDf)\n",
    "o2SaturationDf = pd.read_csv('o2Saturation.csv')\n",
    "o2SaturationDf = pd.DataFrame(o2SaturationDf)"
   ]
  },
  {
   "cell_type": "markdown",
   "metadata": {},
   "source": [
    "Here we would print the first 5 rows of both the datasets so that we know what the data is like :"
   ]
  },
  {
   "cell_type": "code",
   "execution_count": 4,
   "metadata": {},
   "outputs": [
    {
     "data": {
      "text/html": [
       "<div>\n",
       "<style scoped>\n",
       "    .dataframe tbody tr th:only-of-type {\n",
       "        vertical-align: middle;\n",
       "    }\n",
       "\n",
       "    .dataframe tbody tr th {\n",
       "        vertical-align: top;\n",
       "    }\n",
       "\n",
       "    .dataframe thead th {\n",
       "        text-align: right;\n",
       "    }\n",
       "</style>\n",
       "<table border=\"1\" class=\"dataframe\">\n",
       "  <thead>\n",
       "    <tr style=\"text-align: right;\">\n",
       "      <th></th>\n",
       "      <th>age</th>\n",
       "      <th>sex</th>\n",
       "      <th>cp</th>\n",
       "      <th>trtbps</th>\n",
       "      <th>chol</th>\n",
       "      <th>fbs</th>\n",
       "      <th>restecg</th>\n",
       "      <th>thalachh</th>\n",
       "      <th>exng</th>\n",
       "      <th>oldpeak</th>\n",
       "      <th>slp</th>\n",
       "      <th>caa</th>\n",
       "      <th>thall</th>\n",
       "      <th>output</th>\n",
       "    </tr>\n",
       "  </thead>\n",
       "  <tbody>\n",
       "    <tr>\n",
       "      <th>0</th>\n",
       "      <td>63</td>\n",
       "      <td>1</td>\n",
       "      <td>3</td>\n",
       "      <td>145.0</td>\n",
       "      <td>233.0</td>\n",
       "      <td>1</td>\n",
       "      <td>0</td>\n",
       "      <td>150.0</td>\n",
       "      <td>0</td>\n",
       "      <td>2.3</td>\n",
       "      <td>0</td>\n",
       "      <td>0</td>\n",
       "      <td>1</td>\n",
       "      <td>1</td>\n",
       "    </tr>\n",
       "    <tr>\n",
       "      <th>1</th>\n",
       "      <td>37</td>\n",
       "      <td>1</td>\n",
       "      <td>2</td>\n",
       "      <td>130.0</td>\n",
       "      <td>250.0</td>\n",
       "      <td>0</td>\n",
       "      <td>1</td>\n",
       "      <td>187.0</td>\n",
       "      <td>0</td>\n",
       "      <td>3.5</td>\n",
       "      <td>0</td>\n",
       "      <td>0</td>\n",
       "      <td>2</td>\n",
       "      <td>1</td>\n",
       "    </tr>\n",
       "    <tr>\n",
       "      <th>2</th>\n",
       "      <td>41</td>\n",
       "      <td>0</td>\n",
       "      <td>1</td>\n",
       "      <td>130.0</td>\n",
       "      <td>204.0</td>\n",
       "      <td>0</td>\n",
       "      <td>0</td>\n",
       "      <td>172.0</td>\n",
       "      <td>0</td>\n",
       "      <td>1.4</td>\n",
       "      <td>2</td>\n",
       "      <td>0</td>\n",
       "      <td>2</td>\n",
       "      <td>1</td>\n",
       "    </tr>\n",
       "    <tr>\n",
       "      <th>3</th>\n",
       "      <td>56</td>\n",
       "      <td>1</td>\n",
       "      <td>1</td>\n",
       "      <td>120.0</td>\n",
       "      <td>236.0</td>\n",
       "      <td>0</td>\n",
       "      <td>1</td>\n",
       "      <td>178.0</td>\n",
       "      <td>0</td>\n",
       "      <td>0.8</td>\n",
       "      <td>2</td>\n",
       "      <td>0</td>\n",
       "      <td>2</td>\n",
       "      <td>1</td>\n",
       "    </tr>\n",
       "    <tr>\n",
       "      <th>4</th>\n",
       "      <td>57</td>\n",
       "      <td>0</td>\n",
       "      <td>0</td>\n",
       "      <td>120.0</td>\n",
       "      <td>354.0</td>\n",
       "      <td>0</td>\n",
       "      <td>1</td>\n",
       "      <td>163.0</td>\n",
       "      <td>1</td>\n",
       "      <td>0.6</td>\n",
       "      <td>2</td>\n",
       "      <td>0</td>\n",
       "      <td>2</td>\n",
       "      <td>1</td>\n",
       "    </tr>\n",
       "  </tbody>\n",
       "</table>\n",
       "</div>"
      ],
      "text/plain": [
       "   age  sex  cp  trtbps   chol  fbs  restecg  thalachh  exng  oldpeak  slp  \\\n",
       "0   63    1   3   145.0  233.0    1        0     150.0     0      2.3    0   \n",
       "1   37    1   2   130.0  250.0    0        1     187.0     0      3.5    0   \n",
       "2   41    0   1   130.0  204.0    0        0     172.0     0      1.4    2   \n",
       "3   56    1   1   120.0  236.0    0        1     178.0     0      0.8    2   \n",
       "4   57    0   0   120.0  354.0    0        1     163.0     1      0.6    2   \n",
       "\n",
       "   caa  thall  output  \n",
       "0    0      1       1  \n",
       "1    0      2       1  \n",
       "2    0      2       1  \n",
       "3    0      2       1  \n",
       "4    0      2       1  "
      ]
     },
     "execution_count": 4,
     "metadata": {},
     "output_type": "execute_result"
    }
   ],
   "source": [
    "#Cell for visualizing the first 5 rows of the heart dataset\n",
    "heartDf.head(5)"
   ]
  },
  {
   "cell_type": "code",
   "execution_count": 5,
   "metadata": {},
   "outputs": [
    {
     "data": {
      "text/html": [
       "<div>\n",
       "<style scoped>\n",
       "    .dataframe tbody tr th:only-of-type {\n",
       "        vertical-align: middle;\n",
       "    }\n",
       "\n",
       "    .dataframe tbody tr th {\n",
       "        vertical-align: top;\n",
       "    }\n",
       "\n",
       "    .dataframe thead th {\n",
       "        text-align: right;\n",
       "    }\n",
       "</style>\n",
       "<table border=\"1\" class=\"dataframe\">\n",
       "  <thead>\n",
       "    <tr style=\"text-align: right;\">\n",
       "      <th></th>\n",
       "      <th>98.6</th>\n",
       "    </tr>\n",
       "  </thead>\n",
       "  <tbody>\n",
       "    <tr>\n",
       "      <th>0</th>\n",
       "      <td>98.6</td>\n",
       "    </tr>\n",
       "    <tr>\n",
       "      <th>1</th>\n",
       "      <td>98.6</td>\n",
       "    </tr>\n",
       "    <tr>\n",
       "      <th>2</th>\n",
       "      <td>98.6</td>\n",
       "    </tr>\n",
       "    <tr>\n",
       "      <th>3</th>\n",
       "      <td>98.1</td>\n",
       "    </tr>\n",
       "    <tr>\n",
       "      <th>4</th>\n",
       "      <td>97.5</td>\n",
       "    </tr>\n",
       "  </tbody>\n",
       "</table>\n",
       "</div>"
      ],
      "text/plain": [
       "   98.6\n",
       "0  98.6\n",
       "1  98.6\n",
       "2  98.6\n",
       "3  98.1\n",
       "4  97.5"
      ]
     },
     "execution_count": 5,
     "metadata": {},
     "output_type": "execute_result"
    }
   ],
   "source": [
    "#Cell for visualizing the first 5 rows of the o2Saturation datset\n",
    "o2SaturationDf.head(5)"
   ]
  },
  {
   "cell_type": "markdown",
   "metadata": {},
   "source": [
    "Q1: Now, we will familirize us with both the datasets so please print the shapes of both the datsets in the cell below and assign them to `heartDfShape` & `o2DfShape` respectively."
   ]
  },
  {
   "cell_type": "code",
   "execution_count": 6,
   "metadata": {},
   "outputs": [],
   "source": [
    "#Use this markdown to get yourself familiriaze with the dataset\n",
    "heartDfShape = heartDf.shape\n",
    "o2DfShape = o2SaturationDf.shape\n"
   ]
  },
  {
   "cell_type": "code",
   "execution_count": 7,
   "metadata": {},
   "outputs": [
    {
     "data": {
      "text/html": [
       "<p><strong><pre style='display: inline;'>Q1</pre></strong> passed!</p>"
      ],
      "text/plain": [
       "Q1 results: All test cases passed!"
      ]
     },
     "execution_count": 7,
     "metadata": {},
     "output_type": "execute_result"
    }
   ],
   "source": [
    "grader.check(\"Q1\")"
   ]
  },
  {
   "cell_type": "markdown",
   "metadata": {},
   "source": [
    "Q2: Now that we know the shapes of both the datsets check if null values are present in both the datsets by writing a relevant code snippet that would do the job for you. Store the null values if any in the variables `heartDfNull` & `o2DfNull` respectively."
   ]
  },
  {
   "cell_type": "code",
   "execution_count": 8,
   "metadata": {},
   "outputs": [],
   "source": [
    "#Please write your code below\n",
    "heartDfNull = heartDf.isnull().sum().sum()\n",
    "o2DfNull = o2SaturationDf.isnull().sum().sum()\n",
    "# print(heartDf)"
   ]
  },
  {
   "cell_type": "code",
   "execution_count": 9,
   "metadata": {},
   "outputs": [
    {
     "data": {
      "text/html": [
       "<p><strong><pre style='display: inline;'>Q2</pre></strong> passed!</p>"
      ],
      "text/plain": [
       "Q2 results: All test cases passed!"
      ]
     },
     "execution_count": 9,
     "metadata": {},
     "output_type": "execute_result"
    }
   ],
   "source": [
    "grader.check(\"Q2\")"
   ]
  },
  {
   "cell_type": "markdown",
   "metadata": {},
   "source": [
    "Q3: Check both `heartDf` & `o2SaturationDf` for the presence of null values (missing values) and drop the rows by writing a valid code snippet below. "
   ]
  },
  {
   "cell_type": "code",
   "execution_count": 10,
   "metadata": {},
   "outputs": [],
   "source": [
    "\n",
    "# Please write your code below\n",
    "heartDf = heartDf.dropna()\n",
    "o2SaturationDf = o2SaturationDf.dropna()\n",
    "# print(heartDf)\n",
    "\n"
   ]
  },
  {
   "cell_type": "code",
   "execution_count": 11,
   "metadata": {},
   "outputs": [
    {
     "data": {
      "text/html": [
       "<p><strong><pre style='display: inline;'>Q3</pre></strong> passed!</p>"
      ],
      "text/plain": [
       "Q3 results: All test cases passed!"
      ]
     },
     "execution_count": 11,
     "metadata": {},
     "output_type": "execute_result"
    }
   ],
   "source": [
    "grader.check(\"Q3\")"
   ]
  },
  {
   "cell_type": "markdown",
   "metadata": {},
   "source": [
    "Q4: Let us now, rename columns before we merge the both the dataset so that we can make more sense out of the data and comprehend it in a better way. The following column changes must be reflected in both the dataframes.\n",
    "<h4>For Heart Dataset</h4>\n",
    "<ul>\n",
    "<li>exng -> exercise induced angina</li>\n",
    "<li>caa -> # of major vessels</li>\n",
    "<li>cp -> chest pain type </li>\n",
    "<li>trtbps -> resting blood pressure</li>\n",
    "<li>chol -> cholestrol levels</li>\n",
    "<li>restecg -> resting electrocardiographic </li> \n",
    "<li>thalachh-> maximum heart rate</li>\n",
    "<li>fbs-> fasting blood Pressure </li>\n",
    "<li>oldpeak -> old peak </li>\n",
    "</ul>\n",
    "<h4>For O2 Saturation Dataset </h4>\n",
    "<ul>\n",
    "<li>98.6 -> O2 saturation</li>\n",
    "</ul>\n",
    "\n",
    "You also need to drop the columns named as `thall` & `slp`  inside the `heartDf` dataframe."
   ]
  },
  {
   "cell_type": "code",
   "execution_count": 12,
   "metadata": {},
   "outputs": [],
   "source": [
    "\n",
    "#Please write your code below\n",
    "\n",
    "#drop from heartDf\n",
    "heartDf = heartDf.drop('slp', axis = 1)\n",
    "heartDf = heartDf.drop('thall', axis = 1)\n",
    "\n",
    "#rename both \n",
    "heartDf = heartDf.rename(columns = {'exng':'exercise induced angina', 'caa':'number of major vessels',\n",
    "                              'cp':'chest pain type', 'trtbps': 'resting blood pressure', 'chol': 'cholestrol levels',\n",
    "                              'restecg': 'resting electrocardiographic', 'thalachh': 'maximum heart rate', 'fbs': 'fasting blood sugar',\n",
    "                              'oldpeak': 'old peak'})\n",
    "\n",
    "\n",
    "\n",
    "o2SaturationDf = o2SaturationDf.rename(columns = {'98.6': 'O2 saturation'})\n"
   ]
  },
  {
   "cell_type": "code",
   "execution_count": 13,
   "metadata": {},
   "outputs": [
    {
     "data": {
      "text/html": [
       "<p><strong><pre style='display: inline;'>Q4</pre></strong> passed!</p>"
      ],
      "text/plain": [
       "Q4 results: All test cases passed!"
      ]
     },
     "execution_count": 13,
     "metadata": {},
     "output_type": "execute_result"
    }
   ],
   "source": [
    "grader.check(\"Q4\")\n"
   ]
  },
  {
   "cell_type": "markdown",
   "metadata": {},
   "source": [
    "Q5: Peform a relevant form of a join so that we can better compare our results and reach an appropriate conclusion. Store the answer in `mergedDf` variable."
   ]
  },
  {
   "cell_type": "code",
   "execution_count": 16,
   "metadata": {},
   "outputs": [],
   "source": [
    "mergedDf =  pd.concat([heartDf, o2SaturationDf], axis=1)\n",
    "# mergedDf"
   ]
  },
  {
   "cell_type": "code",
   "execution_count": 15,
   "metadata": {},
   "outputs": [
    {
     "data": {
      "text/html": [
       "<p><strong><pre style='display: inline;'>Q5</pre></strong> passed!</p>"
      ],
      "text/plain": [
       "Q5 results: All test cases passed!"
      ]
     },
     "execution_count": 15,
     "metadata": {},
     "output_type": "execute_result"
    }
   ],
   "source": [
    "grader.check(\"Q5\")"
   ]
  },
  {
   "cell_type": "markdown",
   "metadata": {},
   "source": [
    "Q6: Now let us start analysing data by first counting the number of individuals that fall into the following age groups:\n",
    "<ul>\n",
    "<li>Below 40 years of age</li>\n",
    "<li>In the range of 40-50 years of age</li>\n",
    "<li>In the range of 50-60 years of age</li>\n",
    "<li>In the range of 60-70 years of age</li>\n",
    "<li>70 or above years of age</li>\n",
    "</ul>\n",
    "<b>Note: </b> Only the lower bound is inclusive in the above age group range. You are to store the results in the variables given in the cell below."
   ]
  },
  {
   "cell_type": "code",
   "execution_count": 17,
   "metadata": {},
   "outputs": [],
   "source": [
    "#Store the variables in the same order as given above\n",
    "belowForty = mergedDf[mergedDf['age'] < 40]\n",
    "ageBtwRange1 = mergedDf[ (mergedDf['age'] >= 40) & (mergedDf['age'] < 50 )]\n",
    "ageBtwRange2 = mergedDf[ (mergedDf['age'] >= 50) & (mergedDf['age'] < 60 )]\n",
    "ageBtwRange3 = mergedDf[ (mergedDf['age'] >= 60) & (mergedDf['age'] < 70 )]\n",
    "aboveSeventy = mergedDf[mergedDf['age'] >= 70 ]\n",
    "\n"
   ]
  },
  {
   "cell_type": "code",
   "execution_count": 18,
   "metadata": {},
   "outputs": [
    {
     "data": {
      "text/html": [
       "<p><strong><pre style='display: inline;'>Q6</pre></strong> passed!</p>"
      ],
      "text/plain": [
       "Q6 results: All test cases passed!"
      ]
     },
     "execution_count": 18,
     "metadata": {},
     "output_type": "execute_result"
    }
   ],
   "source": [
    "grader.check(\"Q6\")"
   ]
  },
  {
   "cell_type": "markdown",
   "metadata": {},
   "source": [
    "Q7: Is the average resting blood pressure of individuals in the (Above 70 age group) greater or smaller than the resting blood pressure of inviduals that are below 40 years old ? <br/>\n",
    "Store the result in `meanOfAboveSeventy` & `meanOfBelowForty` variables. <br/> Also the variable `q7Answer` must contain a string such as a 'Yes' or 'No' as the test cases check for it. <br>\n",
    "<b>Note: </b>You are not allowed to use the mean() method but rather calculate the mean mathematically."
   ]
  },
  {
   "cell_type": "code",
   "execution_count": 19,
   "metadata": {},
   "outputs": [],
   "source": [
    "#Please write your code below\n",
    "\n",
    "#print(aboveSeventy)\n",
    "meanOfAboveSeventy = aboveSeventy['resting blood pressure'].sum() / len(aboveSeventy['resting blood pressure'])\n",
    "meanOfBelowForty = belowForty['resting blood pressure'].sum() / len(belowForty['resting blood pressure'] )\n",
    "if (meanOfAboveSeventy > meanOfBelowForty):\n",
    "    q7Answer = 'Yes'\n",
    "    \n",
    "elif (meanOfAboveSeventy < meanOfBelowForty):\n",
    "    q7Answer = 'No'\n"
   ]
  },
  {
   "cell_type": "code",
   "execution_count": 20,
   "metadata": {},
   "outputs": [
    {
     "data": {
      "text/html": [
       "<p><strong><pre style='display: inline;'>Q7</pre></strong> passed!</p>"
      ],
      "text/plain": [
       "Q7 results: All test cases passed!"
      ]
     },
     "execution_count": 20,
     "metadata": {},
     "output_type": "execute_result"
    }
   ],
   "source": [
    "grader.check(\"Q7\")"
   ]
  },
  {
   "cell_type": "markdown",
   "metadata": {},
   "source": [
    "Q8: What is the most occuring value for oxygen saturation in individuals that fall into the age group of 50-60 ? <br>\n",
    "Store the value in the variable `frequentO2Saturation`."
   ]
  },
  {
   "cell_type": "code",
   "execution_count": 21,
   "metadata": {},
   "outputs": [],
   "source": [
    "#Please write your code below\n",
    "frequentO2Saturation = ((ageBtwRange2['O2 saturation']).mode())[0]\n"
   ]
  },
  {
   "cell_type": "code",
   "execution_count": 173,
   "metadata": {},
   "outputs": [
    {
     "data": {
      "text/html": [
       "<p><strong><pre style='display: inline;'>Q8</pre></strong> passed!</p>"
      ],
      "text/plain": [
       "Q8 results: All test cases passed!"
      ]
     },
     "execution_count": 173,
     "metadata": {},
     "output_type": "execute_result"
    }
   ],
   "source": [
    "grader.check(\"Q8\")"
   ]
  },
  {
   "cell_type": "markdown",
   "metadata": {},
   "source": [
    "Q9: Can you specify which type of chest pain is observed by most people who are in the age group of 50-60? <br>So if the most observed chest pain turns out to be `1` then your final variable `mostObservedChestPain` should contain the value `Atypical anigma` in this very case.\n",
    "<ul>\n",
    "<li>Value 0 -> Typical anigma</li>\n",
    "<li>Value 1 -> Atypical anigma</li>\n",
    "<li>Value 2 -> Non anigmal pain</li>\n",
    "<li>Value 3 -> Asymptomatic</li> \n",
    "</ul>"
   ]
  },
  {
   "cell_type": "code",
   "execution_count": 23,
   "metadata": {},
   "outputs": [],
   "source": [
    "#Please write your code below\n",
    "valueN = ((ageBtwRange2['chest pain type']).mode())[0]\n",
    "if (valueN == 0):\n",
    "    mostObservedChestPain = 'Typical anigma'\n",
    "elif (valueN == 1):\n",
    "    mostObservedChestPain = 'Atypical anigma'\n",
    "\n",
    "elif (valueN == 2):\n",
    "    mostObservedChestPain = 'Non anigmal pain'\n",
    "\n",
    "elif (valueN == 3):\n",
    "    mostObservedChestPain = 'Asymptomatic'\n",
    "\n",
    "else: \n",
    "    mostObservedChestPain = 'none'"
   ]
  },
  {
   "cell_type": "code",
   "execution_count": 24,
   "metadata": {},
   "outputs": [
    {
     "data": {
      "text/html": [
       "<p><strong><pre style='display: inline;'>Q9</pre></strong> passed!</p>"
      ],
      "text/plain": [
       "Q9 results: All test cases passed!"
      ]
     },
     "execution_count": 24,
     "metadata": {},
     "output_type": "execute_result"
    }
   ],
   "source": [
    "grader.check(\"Q9\")"
   ]
  },
  {
   "cell_type": "markdown",
   "metadata": {},
   "source": [
    "Q10: Calculate the <b>median</b> cholestrol levels for all the age groups and visualize the result by making use of a suitable visualization.<br>\n",
    "<b>Note: </b> Here the variable `listOfDf` contains all the age groups that you have previously calculated in question <b>6</b>."
   ]
  },
  {
   "cell_type": "code",
   "execution_count": 25,
   "metadata": {},
   "outputs": [
    {
     "data": {
      "image/png": "[encoded data removed]",
      "text/plain": [
       "<Figure size 648x360 with 1 Axes>"
      ]
     },
     "metadata": {
      "needs_background": "light"
     },
     "output_type": "display_data"
    }
   ],
   "source": [
    "#Please write your code below\n",
    "from turtle import color\n",
    "\n",
    "listOfDf = [belowForty, ageBtwRange1, ageBtwRange2, ageBtwRange3, aboveSeventy]\n",
    "medianOfAllCholLevels = []\n",
    "\n",
    "\n",
    "for i in range(len(listOfDf)):\n",
    "  medianOfAllCholLevels.append( (listOfDf[i]['cholestrol levels']).median())  \n",
    "\n",
    "#xAxis -> listOfDf name. \n",
    "#yAxis -> medianOFfAllCholLevels. \n",
    "\n",
    "\n",
    "xAxis = ['<40', '40-50', '50-60', '60-70', '70>']\n",
    "plt.figure(figsize=(9,5))\n",
    "\n",
    "plt.bar(xAxis,medianOfAllCholLevels, color='maroon')\n",
    "plt.title('Median Cholstrol Levels for all Age Groups')\n",
    "plt.xlabel('Age Groups')\n",
    "plt.ylabel('Median Cholestrol Level')\n",
    "plt.show()\n"
   ]
  },
  {
   "cell_type": "code",
   "execution_count": 26,
   "metadata": {},
   "outputs": [
    {
     "data": {
      "text/html": [
       "<p><strong><pre style='display: inline;'>Q10</pre></strong> passed!</p>"
      ],
      "text/plain": [
       "Q10 results: All test cases passed!"
      ]
     },
     "execution_count": 26,
     "metadata": {},
     "output_type": "execute_result"
    }
   ],
   "source": [
    "grader.check(\"Q10\")"
   ]
  },
  {
   "cell_type": "markdown",
   "metadata": {},
   "source": [
    "Q11: Now let us explore the use of pivot tables, you are to construct a pivot table which would count the number of male and female individuals which are suffering from the various chest pains as mentioned above in one of the previous cells.\n",
    "<br> Also you need to change the 0 and 1s in the `sex` column to `Female` and `Male` respectively"
   ]
  },
  {
   "cell_type": "code",
   "execution_count": 27,
   "metadata": {},
   "outputs": [
    {
     "data": {
      "text/html": [
       "<div>\n",
       "<style scoped>\n",
       "    .dataframe tbody tr th:only-of-type {\n",
       "        vertical-align: middle;\n",
       "    }\n",
       "\n",
       "    .dataframe tbody tr th {\n",
       "        vertical-align: top;\n",
       "    }\n",
       "\n",
       "    .dataframe thead th {\n",
       "        text-align: right;\n",
       "    }\n",
       "</style>\n",
       "<table border=\"1\" class=\"dataframe\">\n",
       "  <thead>\n",
       "    <tr style=\"text-align: right;\">\n",
       "      <th>sex</th>\n",
       "      <th>Female</th>\n",
       "      <th>Male</th>\n",
       "    </tr>\n",
       "    <tr>\n",
       "      <th>chest pain type</th>\n",
       "      <th></th>\n",
       "      <th></th>\n",
       "    </tr>\n",
       "  </thead>\n",
       "  <tbody>\n",
       "    <tr>\n",
       "      <th>Typical anigma</th>\n",
       "      <td>2233</td>\n",
       "      <td>5731</td>\n",
       "    </tr>\n",
       "    <tr>\n",
       "      <th>Atypical anigma</th>\n",
       "      <td>935</td>\n",
       "      <td>1633</td>\n",
       "    </tr>\n",
       "    <tr>\n",
       "      <th>Non anigmal pain</th>\n",
       "      <td>1924</td>\n",
       "      <td>2732</td>\n",
       "    </tr>\n",
       "    <tr>\n",
       "      <th>Asymptomatic</th>\n",
       "      <td>253</td>\n",
       "      <td>1032</td>\n",
       "    </tr>\n",
       "  </tbody>\n",
       "</table>\n",
       "</div>"
      ],
      "text/plain": [
       "sex               Female  Male\n",
       "chest pain type               \n",
       "Typical anigma      2233  5731\n",
       "Atypical anigma      935  1633\n",
       "Non anigmal pain    1924  2732\n",
       "Asymptomatic         253  1032"
      ]
     },
     "execution_count": 27,
     "metadata": {},
     "output_type": "execute_result"
    }
   ],
   "source": [
    "#Please write your code below\n",
    "#renaming: \n",
    "\n",
    "mergedDf['sex'] = mergedDf['sex'].astype('category')\n",
    "mergedDf['sex'] =  (mergedDf['sex']).cat.rename_categories({0:'Female', 1:'Male'})\n",
    "\n",
    "mergedDf['chest pain type'] = mergedDf['chest pain type'].astype('category')\n",
    "mergedDf['chest pain type'] =  (mergedDf['chest pain type']).cat.rename_categories(\n",
    "    {0:'Typical anigma', 1:'Atypical anigma', 2: 'Non anigmal pain', 3: 'Asymptomatic'})\n",
    "\n",
    "#pivot table. \n",
    "pivotTable = mergedDf.pivot_table(\n",
    "    index = 'chest pain type',\n",
    "    columns = 'sex', \n",
    "    values='age',\n",
    "    aggfunc=np.sum,\n",
    ")\n",
    "\n",
    "pivotTable.head()\n"
   ]
  },
  {
   "cell_type": "code",
   "execution_count": 28,
   "metadata": {},
   "outputs": [
    {
     "data": {
      "text/html": [
       "<p><strong><pre style='display: inline;'>Q11</pre></strong> passed!</p>"
      ],
      "text/plain": [
       "Q11 results: All test cases passed!"
      ]
     },
     "execution_count": 28,
     "metadata": {},
     "output_type": "execute_result"
    }
   ],
   "source": [
    "grader.check(\"Q11\")"
   ]
  },
  {
   "cell_type": "markdown",
   "metadata": {},
   "source": [
    "Q12: Using a suitable representation, represent the proportion of males and females who are diagnosed with exercise induced angina. <br/>\n",
    "<b>Note:</b> 1 means they have exercise induced angina whereas 0 means they do not. "
   ]
  },
  {
   "cell_type": "code",
   "execution_count": 29,
   "metadata": {},
   "outputs": [],
   "source": [
    "#Please write your code below\n",
    "diagnosed = mergedDf[mergedDf['exercise induced angina'] == 1] \n",
    "byGender = (diagnosed.groupby('sex')).count()\n",
    "\n",
    "q12Answer = byGender"
   ]
  },
  {
   "cell_type": "code",
   "execution_count": 30,
   "metadata": {},
   "outputs": [
    {
     "data": {
      "text/html": [
       "<p><strong><pre style='display: inline;'>Q12</pre></strong> passed!</p>"
      ],
      "text/plain": [
       "Q12 results: All test cases passed!"
      ]
     },
     "execution_count": 30,
     "metadata": {},
     "output_type": "execute_result"
    }
   ],
   "source": [
    "grader.check(\"Q12\")"
   ]
  },
  {
   "cell_type": "markdown",
   "metadata": {},
   "source": [
    "Q13: Now we will replace the 0 and 1s in the `fasting blood sugar` column into \"No\" & \"Yes\" respectively. Write a code snippet in the cell below that does the job for you."
   ]
  },
  {
   "cell_type": "code",
   "execution_count": 31,
   "metadata": {},
   "outputs": [],
   "source": [
    "#Please write your code below\n",
    "\n",
    "mergedDf['fasting blood sugar'] = mergedDf['fasting blood sugar'].astype('category')\n",
    "mergedDf['fasting blood sugar'] =  (mergedDf['fasting blood sugar']).cat.rename_categories({0:'No', 1:'Yes'})\n",
    "\n"
   ]
  },
  {
   "cell_type": "code",
   "execution_count": 32,
   "metadata": {},
   "outputs": [
    {
     "data": {
      "text/html": [
       "<p><strong><pre style='display: inline;'>Q13</pre></strong> passed!</p>"
      ],
      "text/plain": [
       "Q13 results: All test cases passed!"
      ]
     },
     "execution_count": 32,
     "metadata": {},
     "output_type": "execute_result"
    }
   ],
   "source": [
    "grader.check(\"Q13\")"
   ]
  },
  {
   "cell_type": "markdown",
   "metadata": {},
   "source": [
    "Q14: Did people who possess non anigmal pain (value -> 2) in their chest have greater chance of getting a heart attack to those who have an asymptotic (value -> 3) chest pain ?\n",
    "<br/>\n",
    "<b>Note: </b> Your Answer should be a simple 'Yes' or 'No' in form a string stored in the `q14Answer` variable."
   ]
  },
  {
   "cell_type": "code",
   "execution_count": 34,
   "metadata": {},
   "outputs": [],
   "source": [
    "heartAttack = mergedDf[mergedDf['output'] == 1 ] #people have heart attack \n",
    "nonAnigmal = heartAttack[heartAttack['chest pain type'] == 'Non anigmal pain']\n",
    "asymptotic = heartAttack[heartAttack['chest pain type'] == 'Asymptomatic']\n",
    "\n",
    "nonAnigmalOutput = nonAnigmal['output'].value_counts().values\n",
    "nonAnigmalOutput = nonAnigmalOutput[0].astype(int)\n",
    "asymptoticOutput = asymptotic['output'].value_counts().values\n",
    "asymptoticOutput = asymptoticOutput[0].astype(int)\n",
    "\n",
    "if (nonAnigmalOutput > asymptoticOutput):\n",
    "    q14Answer = 'Yes'\n",
    "    \n",
    "elif (nonAnigmalOutput < asymptoticOutput):\n",
    "    q14Answer = 'No'\n",
    "\n",
    "\n",
    "# q14Answer = ..."
   ]
  },
  {
   "cell_type": "code",
   "execution_count": 35,
   "metadata": {},
   "outputs": [
    {
     "data": {
      "text/html": [
       "<p><strong><pre style='display: inline;'>Q14</pre></strong> passed!</p>"
      ],
      "text/plain": [
       "Q14 results: All test cases passed!"
      ]
     },
     "execution_count": 35,
     "metadata": {},
     "output_type": "execute_result"
    }
   ],
   "source": [
    "grader.check(\"Q14\")"
   ]
  },
  {
   "cell_type": "markdown",
   "metadata": {},
   "source": [
    "Q15: What is the maximum heart rate across the different age groups ? \n",
    "Store the max heart rates obtained in the variable `heartRates`.\n",
    "<br> Represent the maximum heart rates you obtain using a suitable plot. <br>\n",
    "Do you notice a trend in the maximum heart rate please give a valid justification for the trend that you observe ?"
   ]
  },
  {
   "cell_type": "code",
   "execution_count": 36,
   "metadata": {},
   "outputs": [
    {
     "data": {
      "image/png": "[encoded data removed]",
      "text/plain": [
       "<Figure size 648x360 with 1 Axes>"
      ]
     },
     "metadata": {
      "needs_background": "light"
     },
     "output_type": "display_data"
    }
   ],
   "source": [
    "#Please write your code below\n",
    "from turtle import color\n",
    "\n",
    "listOfheartRates = [belowForty, ageBtwRange1, ageBtwRange2, ageBtwRange3, aboveSeventy]\n",
    "heartRates = []\n",
    "\n",
    "\n",
    "for i in range(len(listOfDf)):\n",
    "  heartRates.append( (listOfDf[i]['maximum heart rate']).max())  \n",
    "\n",
    "xaxis = ['<40', '40-50', '50-60', '60-70', '70>']\n",
    "plt.figure(figsize=(9,5))\n",
    "\n",
    "plt.bar(xaxis,heartRates, color='indigo')\n",
    "plt.title('Maximum Heart Rates Across Age Groups')\n",
    "plt.xlabel('Age Groups')\n",
    "plt.ylabel('Max. Heart Rates')\n",
    "plt.show()\n",
    "\n"
   ]
  },
  {
   "cell_type": "markdown",
   "metadata": {},
   "source": [
    "As age increases, the heart rate across age groups decreases. Since heart is a muscle, with age, it weakens and thus there is less flow of oxygen rich blood when older people exercise, resulting in a less maximum heart rate."
   ]
  },
  {
   "cell_type": "code",
   "execution_count": 37,
   "metadata": {},
   "outputs": [
    {
     "data": {
      "text/html": [
       "<p><strong><pre style='display: inline;'>Q15</pre></strong> passed!</p>"
      ],
      "text/plain": [
       "Q15 results: All test cases passed!"
      ]
     },
     "execution_count": 37,
     "metadata": {},
     "output_type": "execute_result"
    }
   ],
   "source": [
    "grader.check(\"Q15\")"
   ]
  },
  {
   "cell_type": "markdown",
   "metadata": {},
   "source": [
    "Q16: How many people have the oxygen saturation and cholestrol values greater than the threshold values given below ? Store it in the variable `numberOfPeople`. \n",
    "<br>\n",
    "Do you think people with such levels of O2 saturation and cholestrol have a higher probability of getting an heart attack ? Justify this claim by providing a valid reason."
   ]
  },
  {
   "cell_type": "code",
   "execution_count": 38,
   "metadata": {},
   "outputs": [
    {
     "name": "stdout",
     "output_type": "stream",
     "text": [
      "0.09696969696969697\n"
     ]
    }
   ],
   "source": [
    "#The threshold values are given below\n",
    "o2Threshold = 98\n",
    "cholThreshold = 200\n",
    "higher = mergedDf[(mergedDf['O2 saturation'] >= o2Threshold) & (mergedDf['cholestrol levels'] >= cholThreshold ) ].value_counts().sum()\n",
    "numberOfPeople = higher\n",
    "higherDf = mergedDf[(mergedDf['O2 saturation'] >= o2Threshold) & (mergedDf['cholestrol levels'] >= cholThreshold ) ]\n",
    "hHeartAttack =  higherDf[higherDf['output'] == 1 ].count().sum() #people have heart attack \n",
    "totalHeartAttack = heartAttack.count().sum()\n",
    "probability = hHeartAttack/ totalHeartAttack \n",
    "\n",
    "print(probability)"
   ]
  },
  {
   "cell_type": "code",
   "execution_count": 39,
   "metadata": {},
   "outputs": [
    {
     "data": {
      "text/html": [
       "<p><strong><pre style='display: inline;'>Q16</pre></strong> passed!</p>"
      ],
      "text/plain": [
       "Q16 results: All test cases passed!"
      ]
     },
     "execution_count": 39,
     "metadata": {},
     "output_type": "execute_result"
    }
   ],
   "source": [
    "grader.check(\"Q16\")"
   ]
  },
  {
   "cell_type": "markdown",
   "metadata": {},
   "source": [
    "This marks the end of Assignment 1 Part 2 :) <br>\n",
    "Hooray! You made it to the end now give your self a pat on the back!"
   ]
  }
 ],
 "metadata": {
  "kernelspec": {
   "display_name": "Python 3.9.13 64-bit (microsoft store)",
   "language": "python",
   "name": "python3"
  },
  "language_info": {
   "codemirror_mode": {
    "name": "ipython",
    "version": 3
   },
   "file_extension": ".py",
   "mimetype": "text/x-python",
   "name": "python",
   "nbconvert_exporter": "python",
   "pygments_lexer": "ipython3",
   "version": "3.9.13"
  },
  "vscode": {
   "interpreter": {
    "hash": "970a2a4939579a4c22872227820a264ec023ee5692739211cbaca24386397975"
   }
  }
 },
 "nbformat": 4,
 "nbformat_minor": 2
}
