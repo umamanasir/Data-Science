{
 "cells": [
  {
   "cell_type": "markdown",
   "metadata": {},
   "source": [
    "<h1>Assignment 2 (Part 1) <h1>"
   ]
  },
  {
   "cell_type": "markdown",
   "metadata": {},
   "source": [
    "<h3>Assignment instructions</h3>"
   ]
  },
  {
   "cell_type": "markdown",
   "metadata": {},
   "source": [
    "* **How to install 'otter'**: Run `pip install otter-grader` in your Anaconda Command Prompt\n",
    "* **Otter**: It is an autograder that we will be using for grading your notebooks.\n",
    "* **grader.check('qn')**: This command runs test cases for nth question `qn` provided to you and displays the result. But these are not the only test cases, these are provided just for your basic testing. There will be some *hidden test cases* on which your answers will be tested as well.\n",
    "* You are **not** allowed to edit any pre-defined variables and as per the instructions for every question you have to assign your answers to these variables.\n",
    "* Write your answers in place of `...`"
   ]
  },
  {
   "cell_type": "markdown",
   "metadata": {},
   "source": [
    "<h3>Submission instructions</h3>"
   ]
  },
  {
   "cell_type": "markdown",
   "metadata": {},
   "source": [
    "* There are two parts of this assignment. You should name both notebooks as **YourRollNumber_PartNumber.ipynb**. (e.g. this part should be named as *`2XXXXXXX_1.ipynb`*).\n",
    "* You must submit a zip file containg just two notebooks and it must not has any folder or any other file. \n",
    "* The name of the zip file must be your `RollNumber_PA2`."
   ]
  },
  {
   "cell_type": "code",
   "execution_count": 1,
   "metadata": {},
   "outputs": [],
   "source": [
    "#Please run this cell to configure otter grader\n",
    "import otter\n",
    "grader = otter.Notebook()"
   ]
  },
  {
   "cell_type": "code",
   "execution_count": 2,
   "metadata": {},
   "outputs": [],
   "source": [
    "#Please run the cell below to perfrom all the necessary imports\n",
    "import pandas as pd\n",
    "import matplotlib.pyplot as plt\n",
    "import numpy as np\n",
    "import seaborn as sns"
   ]
  },
  {
   "cell_type": "markdown",
   "metadata": {},
   "source": [
    "In this Assignment we will focus more on data cleaning and generating appropriate visualizations from the `neflix_tiltes1` dataset. <br/>\n",
    "So after completing this part of the assignment you might be able to generate useful information from any given dataset."
   ]
  },
  {
   "cell_type": "markdown",
   "metadata": {},
   "source": [
    "Please use the cell below to import the dataset into the variable `netflixDataset`."
   ]
  },
  {
   "cell_type": "code",
   "execution_count": 60,
   "metadata": {},
   "outputs": [
    {
     "name": "stdout",
     "output_type": "stream",
     "text": [
      "(8807, 12)\n"
     ]
    }
   ],
   "source": [
    "#Use this cell to familiarize yourself with the dataset such as the shape of the dataset and the columns\n",
    "netflixDataset = pd.read_csv('netflix_titles1.csv')\n",
    "netflixDataset = pd.DataFrame(netflixDataset)\n",
    "# netflixDataset.columns\n",
    "\n",
    "print(netflixDataset.shape)\n",
    "# netflixDataset.head()"
   ]
  },
  {
   "cell_type": "markdown",
   "metadata": {},
   "source": [
    "\n",
    "**Question 1 :** What is the granularity of the data (i.e. what does each row represent)?\n",
    "\n",
    "*Answering Guidelines:* a placeholder for your answer has been made - simply add your answer in the markdown cell below as instructed."
   ]
  },
  {
   "cell_type": "markdown",
   "metadata": {},
   "source": [
    "Each row represents information about shows and movies by Netfix. The type of show is categorized as TV or Movie, with it's title, director name, cast, country, date added to Netflix, the release year, it's rating, duration, category and the description.\n",
    "<ul>\n",
    "<li> Overall there is less granularity because the data has all actors in the cAst column and categories in the column listEd_In in a single column. </li>\n",
    "<li> duratOn has both minutes and the number of seasons mentioned which results in low granularity. </li>\n",
    "</ul>"
   ]
  },
  {
   "cell_type": "markdown",
   "metadata": {},
   "source": [
    "**Question 2A :** Remove the word `s` from each entry of the column `show_id` and convert each entry into `int` datatype.<br/> You are to reflect the changes inside the same variable i.e `netflixDataset`."
   ]
  },
  {
   "cell_type": "code",
   "execution_count": 61,
   "metadata": {},
   "outputs": [
    {
     "data": {
      "text/plain": [
       "Index(['show_id', 'tyPe', 'title', 'director!!!', 'cAst', 'countRy',\n",
       "       'daTe_adDed', 'rElese_year', 'ratIng', 'duratOn', 'listEd_In',\n",
       "       'desCripTion'],\n",
       "      dtype='object')"
      ]
     },
     "execution_count": 61,
     "metadata": {},
     "output_type": "execute_result"
    }
   ],
   "source": [
    "#Your code here\n",
    "# netflixDataset.shape\n",
    "\n",
    "\n",
    "netflixDataset['show_id'] = netflixDataset['show_id'].str.replace('s', '')\n",
    "netflixDataset['show_id'] = netflixDataset['show_id'].astype('int')\n",
    "\n",
    "netflixDataset.columns\n"
   ]
  },
  {
   "cell_type": "code",
   "execution_count": 62,
   "metadata": {},
   "outputs": [
    {
     "data": {
      "text/html": [
       "<p><strong><pre style='display: inline;'>Q2A</pre></strong> passed!</p>"
      ],
      "text/plain": [
       "Q2A results: All test cases passed!"
      ]
     },
     "execution_count": 62,
     "metadata": {},
     "output_type": "execute_result"
    }
   ],
   "source": [
    "grader.check('Q2A')"
   ]
  },
  {
   "cell_type": "markdown",
   "metadata": {},
   "source": [
    "**Question 2B :** Make `show_id` the index for the dataframe and the changes must persist in the variable `netflixDataset`."
   ]
  },
  {
   "cell_type": "code",
   "execution_count": 63,
   "metadata": {},
   "outputs": [],
   "source": [
    "#Your code here\n",
    "netflixDataset.columns\n",
    "netflixDataset = netflixDataset.set_index('show_id')"
   ]
  },
  {
   "cell_type": "code",
   "execution_count": 64,
   "metadata": {},
   "outputs": [
    {
     "data": {
      "text/html": [
       "<p><strong><pre style='display: inline;'>Q2B</pre></strong> passed!</p>"
      ],
      "text/plain": [
       "Q2B results: All test cases passed!"
      ]
     },
     "execution_count": 64,
     "metadata": {},
     "output_type": "execute_result"
    }
   ],
   "source": [
    "grader.check('Q2B')"
   ]
  },
  {
   "cell_type": "markdown",
   "metadata": {},
   "source": [
    "**Question 3 :** Check for null values in the dataframe and if they persist drop the null values accordingly.<br/>\n",
    "Your final answer must be present in the variable `netflixDataset`."
   ]
  },
  {
   "cell_type": "code",
   "execution_count": 65,
   "metadata": {},
   "outputs": [
    {
     "data": {
      "text/html": [
       "<div>\n",
       "<style scoped>\n",
       "    .dataframe tbody tr th:only-of-type {\n",
       "        vertical-align: middle;\n",
       "    }\n",
       "\n",
       "    .dataframe tbody tr th {\n",
       "        vertical-align: top;\n",
       "    }\n",
       "\n",
       "    .dataframe thead th {\n",
       "        text-align: right;\n",
       "    }\n",
       "</style>\n",
       "<table border=\"1\" class=\"dataframe\">\n",
       "  <thead>\n",
       "    <tr style=\"text-align: right;\">\n",
       "      <th></th>\n",
       "      <th>tyPe</th>\n",
       "      <th>title</th>\n",
       "      <th>director!!!</th>\n",
       "      <th>cAst</th>\n",
       "      <th>countRy</th>\n",
       "      <th>daTe_adDed</th>\n",
       "      <th>rElese_year</th>\n",
       "      <th>ratIng</th>\n",
       "      <th>duratOn</th>\n",
       "      <th>listEd_In</th>\n",
       "      <th>desCripTion</th>\n",
       "    </tr>\n",
       "    <tr>\n",
       "      <th>show_id</th>\n",
       "      <th></th>\n",
       "      <th></th>\n",
       "      <th></th>\n",
       "      <th></th>\n",
       "      <th></th>\n",
       "      <th></th>\n",
       "      <th></th>\n",
       "      <th></th>\n",
       "      <th></th>\n",
       "      <th></th>\n",
       "      <th></th>\n",
       "    </tr>\n",
       "  </thead>\n",
       "  <tbody>\n",
       "    <tr>\n",
       "      <th>8</th>\n",
       "      <td>Movie</td>\n",
       "      <td>Sankofa</td>\n",
       "      <td>Haile Gerima!!!</td>\n",
       "      <td>Kofi Ghanaba, Oyafunmike Ogunlano, Alexandra D...</td>\n",
       "      <td>United States, Ghana, Burkina Faso, United Kin...</td>\n",
       "      <td>September 24, 2021</td>\n",
       "      <td>1993</td>\n",
       "      <td>TV-MA</td>\n",
       "      <td>125 min</td>\n",
       "      <td>Dramas, Independent Movies, International Movies</td>\n",
       "      <td>On a photo shoot in Ghana, an American model s...</td>\n",
       "    </tr>\n",
       "    <tr>\n",
       "      <th>9</th>\n",
       "      <td>TV Show</td>\n",
       "      <td>The Great British Baking Show</td>\n",
       "      <td>Andy Devonshire!!!</td>\n",
       "      <td>Mel Giedroyc, Sue Perkins, Mary Berry, Paul Ho...</td>\n",
       "      <td>United Kingdom</td>\n",
       "      <td>September 24, 2021</td>\n",
       "      <td>2021</td>\n",
       "      <td>TV-14</td>\n",
       "      <td>9 Seasons</td>\n",
       "      <td>British TV Shows, Reality TV</td>\n",
       "      <td>A talented batch of amateur bakers face off in...</td>\n",
       "    </tr>\n",
       "    <tr>\n",
       "      <th>10</th>\n",
       "      <td>Movie</td>\n",
       "      <td>The Starling</td>\n",
       "      <td>Theodore Melfi!!!</td>\n",
       "      <td>Melissa McCarthy, Chris O'Dowd, Kevin Kline, T...</td>\n",
       "      <td>United States</td>\n",
       "      <td>September 24, 2021</td>\n",
       "      <td>2021</td>\n",
       "      <td>PG-13</td>\n",
       "      <td>104 min</td>\n",
       "      <td>Comedies, Dramas</td>\n",
       "      <td>A woman adjusting to life after a loss contend...</td>\n",
       "    </tr>\n",
       "    <tr>\n",
       "      <th>13</th>\n",
       "      <td>Movie</td>\n",
       "      <td>Je Suis Karl</td>\n",
       "      <td>Christian Schwochow!!!</td>\n",
       "      <td>Luna Wedler, Jannis Niewöhner, Milan Peschel, ...</td>\n",
       "      <td>Germany, Czech Republic</td>\n",
       "      <td>September 23, 2021</td>\n",
       "      <td>2021</td>\n",
       "      <td>TV-MA</td>\n",
       "      <td>127 min</td>\n",
       "      <td>Dramas, International Movies</td>\n",
       "      <td>After most of her family is murdered in a terr...</td>\n",
       "    </tr>\n",
       "    <tr>\n",
       "      <th>25</th>\n",
       "      <td>Movie</td>\n",
       "      <td>Jeans</td>\n",
       "      <td>S. Shankar!!!</td>\n",
       "      <td>Prashanth, Aishwarya Rai Bachchan, Sri Lakshmi...</td>\n",
       "      <td>India</td>\n",
       "      <td>September 21, 2021</td>\n",
       "      <td>1998</td>\n",
       "      <td>TV-14</td>\n",
       "      <td>166 min</td>\n",
       "      <td>Comedies, International Movies, Romantic Movies</td>\n",
       "      <td>When the father of the man she loves insists t...</td>\n",
       "    </tr>\n",
       "  </tbody>\n",
       "</table>\n",
       "</div>"
      ],
      "text/plain": [
       "            tyPe                          title             director!!!  \\\n",
       "show_id                                                                   \n",
       "8          Movie                        Sankofa         Haile Gerima!!!   \n",
       "9        TV Show  The Great British Baking Show      Andy Devonshire!!!   \n",
       "10         Movie                   The Starling       Theodore Melfi!!!   \n",
       "13         Movie                   Je Suis Karl  Christian Schwochow!!!   \n",
       "25         Movie                          Jeans           S. Shankar!!!   \n",
       "\n",
       "                                                      cAst  \\\n",
       "show_id                                                      \n",
       "8        Kofi Ghanaba, Oyafunmike Ogunlano, Alexandra D...   \n",
       "9        Mel Giedroyc, Sue Perkins, Mary Berry, Paul Ho...   \n",
       "10       Melissa McCarthy, Chris O'Dowd, Kevin Kline, T...   \n",
       "13       Luna Wedler, Jannis Niewöhner, Milan Peschel, ...   \n",
       "25       Prashanth, Aishwarya Rai Bachchan, Sri Lakshmi...   \n",
       "\n",
       "                                                   countRy  \\\n",
       "show_id                                                      \n",
       "8        United States, Ghana, Burkina Faso, United Kin...   \n",
       "9                                           United Kingdom   \n",
       "10                                           United States   \n",
       "13                                 Germany, Czech Republic   \n",
       "25                                                   India   \n",
       "\n",
       "                 daTe_adDed  rElese_year ratIng    duratOn  \\\n",
       "show_id                                                      \n",
       "8        September 24, 2021         1993  TV-MA    125 min   \n",
       "9        September 24, 2021         2021  TV-14  9 Seasons   \n",
       "10       September 24, 2021         2021  PG-13    104 min   \n",
       "13       September 23, 2021         2021  TV-MA    127 min   \n",
       "25       September 21, 2021         1998  TV-14    166 min   \n",
       "\n",
       "                                                listEd_In  \\\n",
       "show_id                                                     \n",
       "8        Dramas, Independent Movies, International Movies   \n",
       "9                            British TV Shows, Reality TV   \n",
       "10                                       Comedies, Dramas   \n",
       "13                           Dramas, International Movies   \n",
       "25        Comedies, International Movies, Romantic Movies   \n",
       "\n",
       "                                               desCripTion  \n",
       "show_id                                                     \n",
       "8        On a photo shoot in Ghana, an American model s...  \n",
       "9        A talented batch of amateur bakers face off in...  \n",
       "10       A woman adjusting to life after a loss contend...  \n",
       "13       After most of her family is murdered in a terr...  \n",
       "25       When the father of the man she loves insists t...  "
      ]
     },
     "execution_count": 65,
     "metadata": {},
     "output_type": "execute_result"
    }
   ],
   "source": [
    "#Your code here\n",
    "netflixDataset = netflixDataset.dropna()\n",
    "netflixDataset.head(5)"
   ]
  },
  {
   "cell_type": "code",
   "execution_count": 61,
   "metadata": {},
   "outputs": [
    {
     "data": {
      "text/html": [
       "<p><strong><pre style='display: inline;'>Q3</pre></strong> passed!</p>"
      ],
      "text/plain": [
       "Q3 results: All test cases passed!"
      ]
     },
     "execution_count": 61,
     "metadata": {},
     "output_type": "execute_result"
    }
   ],
   "source": [
    "grader.check(\"Q3\")"
   ]
  },
  {
   "cell_type": "markdown",
   "metadata": {},
   "source": [
    "**Question 4 :** As you can see above that after you have dropped the null values from the dataset the index `show_id` is now distorted.<br/>\n",
    "Write a code snippet in the cell below that will reset the index and start it from 1 onwards till the length of the dataframe.<br/>\n",
    "Rename the new index as \"Show ID\" and the changes must persist in the variable `netflixDataset`."
   ]
  },
  {
   "cell_type": "code",
   "execution_count": 66,
   "metadata": {},
   "outputs": [
    {
     "data": {
      "text/plain": [
       "(5332, 11)"
      ]
     },
     "execution_count": 66,
     "metadata": {},
     "output_type": "execute_result"
    }
   ],
   "source": [
    "#Your code here\n",
    "netflixDataset = netflixDataset.reset_index(drop=True)\n",
    "netflixDataset.index = netflixDataset.index.set_names(['Show ID'])\n",
    "netflixDataset.index = netflixDataset.index + 1\n",
    "\n",
    "netflixDataset.shape\n",
    "\n",
    "# netflixDataset.head(5)"
   ]
  },
  {
   "cell_type": "code",
   "execution_count": 67,
   "metadata": {},
   "outputs": [
    {
     "data": {
      "text/html": [
       "<p><strong><pre style='display: inline;'>Q4</pre></strong> passed!</p>"
      ],
      "text/plain": [
       "Q4 results: All test cases passed!"
      ]
     },
     "execution_count": 67,
     "metadata": {},
     "output_type": "execute_result"
    }
   ],
   "source": [
    "grader.check(\"Q4\")"
   ]
  },
  {
   "cell_type": "markdown",
   "metadata": {},
   "source": [
    "**Question 5 :** It is always good to have short, representative names of the columns in your dataset. Please rename the columns in such a way that they fulfill the following conditions:\n",
    "<ul>\n",
    "<li>Each column name must start with a capital letter and there must not be any capital letters in the middle or even at the end.</li>\n",
    "<li>There should be no punctuation marks in each of the column names.</li>\n",
    "<li>None of the column names must be mispelled.</li>\n",
    "</ul>"
   ]
  },
  {
   "cell_type": "code",
   "execution_count": 68,
   "metadata": {},
   "outputs": [],
   "source": [
    "#Your code here\n",
    "netflixDataset.columns\n",
    "netflixDataset = netflixDataset.rename(columns = {'tyPe':'Type', 'title':'Title',\n",
    "                              'director!!!':'Director', 'cAst': 'Cast', 'countRy': 'Country',\n",
    "                              'daTe_adDed': 'Date_added', 'rElese_year': 'Release_year', 'ratIng': 'Rating',\n",
    "                              'duratOn': 'Duration', 'listEd_In': 'Listed_in', 'desCripTion': 'Description'})\n",
    "# netflixDataset.columns"
   ]
  },
  {
   "cell_type": "code",
   "execution_count": 69,
   "metadata": {},
   "outputs": [
    {
     "data": {
      "text/html": [
       "<p><strong><pre style='display: inline;'>Q5</pre></strong> passed!</p>"
      ],
      "text/plain": [
       "Q5 results: All test cases passed!"
      ]
     },
     "execution_count": 69,
     "metadata": {},
     "output_type": "execute_result"
    }
   ],
   "source": [
    "grader.check(\"Q5\")"
   ]
  },
  {
   "cell_type": "markdown",
   "metadata": {},
   "source": [
    "**Question 6 :** As you can see there are still some inconsistencies in our data such as in the column of `Director` we have each entry ending with exclamation marks (!!!).<br/>Write a piece of code that would remove the exclamations at the end of each entry in the column."
   ]
  },
  {
   "cell_type": "code",
   "execution_count": 70,
   "metadata": {},
   "outputs": [],
   "source": [
    "import re\n",
    "def checkQ6(column):\n",
    "    match = \"!!!\"\n",
    "    passed = True\n",
    "    for i in range(len(column)):\n",
    "        if len(re.findall(match,column[i])) != 0:\n",
    "            passed = False\n",
    "            return passed\n",
    "    return passed"
   ]
  },
  {
   "cell_type": "code",
   "execution_count": 71,
   "metadata": {},
   "outputs": [],
   "source": [
    "#Your code here\n",
    "netflixDataset['Director'] = netflixDataset['Director'].str.replace('!!!', '')\n"
   ]
  },
  {
   "cell_type": "code",
   "execution_count": 72,
   "metadata": {},
   "outputs": [
    {
     "name": "stdout",
     "output_type": "stream",
     "text": [
      "Q6 passed\n"
     ]
    }
   ],
   "source": [
    "#Do not change the code in this cell\n",
    "Q6Answer = checkQ6(list(netflixDataset['Director']))\n",
    "if Q6Answer:\n",
    "    print(\"Q6 passed\")\n",
    "else:\n",
    "    print(\"Q6 failed\")"
   ]
  },
  {
   "cell_type": "markdown",
   "metadata": {},
   "source": [
    "**Question 7 :** As you can see that the column `Date_added` has entries in the format (month date, year).<br/>You are to split the column into two different columns such as now one column would contain the `month date` (part) & one would contain the `year` (part). <br/>Rename the new colunmns formed as `Added_year` & `Added_date` which would signify the year & the date in which the entry was made into the dataset above. <br/>\n",
    "<b>Note: </b> After doing the above mentioned operation remember to drop the `Date_added` column in the dataset as it would now be redundant."
   ]
  },
  {
   "cell_type": "code",
   "execution_count": 73,
   "metadata": {},
   "outputs": [
    {
     "data": {
      "text/html": [
       "<div>\n",
       "<style scoped>\n",
       "    .dataframe tbody tr th:only-of-type {\n",
       "        vertical-align: middle;\n",
       "    }\n",
       "\n",
       "    .dataframe tbody tr th {\n",
       "        vertical-align: top;\n",
       "    }\n",
       "\n",
       "    .dataframe thead th {\n",
       "        text-align: right;\n",
       "    }\n",
       "</style>\n",
       "<table border=\"1\" class=\"dataframe\">\n",
       "  <thead>\n",
       "    <tr style=\"text-align: right;\">\n",
       "      <th></th>\n",
       "      <th>Type</th>\n",
       "      <th>Title</th>\n",
       "      <th>Director</th>\n",
       "      <th>Cast</th>\n",
       "      <th>Country</th>\n",
       "      <th>Release_year</th>\n",
       "      <th>Rating</th>\n",
       "      <th>Duration</th>\n",
       "      <th>Listed_in</th>\n",
       "      <th>Description</th>\n",
       "      <th>Added_date</th>\n",
       "      <th>Added_year</th>\n",
       "    </tr>\n",
       "    <tr>\n",
       "      <th>Show ID</th>\n",
       "      <th></th>\n",
       "      <th></th>\n",
       "      <th></th>\n",
       "      <th></th>\n",
       "      <th></th>\n",
       "      <th></th>\n",
       "      <th></th>\n",
       "      <th></th>\n",
       "      <th></th>\n",
       "      <th></th>\n",
       "      <th></th>\n",
       "      <th></th>\n",
       "    </tr>\n",
       "  </thead>\n",
       "  <tbody>\n",
       "    <tr>\n",
       "      <th>1</th>\n",
       "      <td>Movie</td>\n",
       "      <td>Sankofa</td>\n",
       "      <td>Haile Gerima</td>\n",
       "      <td>Kofi Ghanaba, Oyafunmike Ogunlano, Alexandra D...</td>\n",
       "      <td>United States, Ghana, Burkina Faso, United Kin...</td>\n",
       "      <td>1993</td>\n",
       "      <td>TV-MA</td>\n",
       "      <td>125 min</td>\n",
       "      <td>Dramas, Independent Movies, International Movies</td>\n",
       "      <td>On a photo shoot in Ghana, an American model s...</td>\n",
       "      <td>September 24</td>\n",
       "      <td>2021</td>\n",
       "    </tr>\n",
       "    <tr>\n",
       "      <th>2</th>\n",
       "      <td>TV Show</td>\n",
       "      <td>The Great British Baking Show</td>\n",
       "      <td>Andy Devonshire</td>\n",
       "      <td>Mel Giedroyc, Sue Perkins, Mary Berry, Paul Ho...</td>\n",
       "      <td>United Kingdom</td>\n",
       "      <td>2021</td>\n",
       "      <td>TV-14</td>\n",
       "      <td>9 Seasons</td>\n",
       "      <td>British TV Shows, Reality TV</td>\n",
       "      <td>A talented batch of amateur bakers face off in...</td>\n",
       "      <td>September 24</td>\n",
       "      <td>2021</td>\n",
       "    </tr>\n",
       "    <tr>\n",
       "      <th>3</th>\n",
       "      <td>Movie</td>\n",
       "      <td>The Starling</td>\n",
       "      <td>Theodore Melfi</td>\n",
       "      <td>Melissa McCarthy, Chris O'Dowd, Kevin Kline, T...</td>\n",
       "      <td>United States</td>\n",
       "      <td>2021</td>\n",
       "      <td>PG-13</td>\n",
       "      <td>104 min</td>\n",
       "      <td>Comedies, Dramas</td>\n",
       "      <td>A woman adjusting to life after a loss contend...</td>\n",
       "      <td>September 24</td>\n",
       "      <td>2021</td>\n",
       "    </tr>\n",
       "    <tr>\n",
       "      <th>4</th>\n",
       "      <td>Movie</td>\n",
       "      <td>Je Suis Karl</td>\n",
       "      <td>Christian Schwochow</td>\n",
       "      <td>Luna Wedler, Jannis Niewöhner, Milan Peschel, ...</td>\n",
       "      <td>Germany, Czech Republic</td>\n",
       "      <td>2021</td>\n",
       "      <td>TV-MA</td>\n",
       "      <td>127 min</td>\n",
       "      <td>Dramas, International Movies</td>\n",
       "      <td>After most of her family is murdered in a terr...</td>\n",
       "      <td>September 23</td>\n",
       "      <td>2021</td>\n",
       "    </tr>\n",
       "    <tr>\n",
       "      <th>5</th>\n",
       "      <td>Movie</td>\n",
       "      <td>Jeans</td>\n",
       "      <td>S. Shankar</td>\n",
       "      <td>Prashanth, Aishwarya Rai Bachchan, Sri Lakshmi...</td>\n",
       "      <td>India</td>\n",
       "      <td>1998</td>\n",
       "      <td>TV-14</td>\n",
       "      <td>166 min</td>\n",
       "      <td>Comedies, International Movies, Romantic Movies</td>\n",
       "      <td>When the father of the man she loves insists t...</td>\n",
       "      <td>September 21</td>\n",
       "      <td>2021</td>\n",
       "    </tr>\n",
       "  </tbody>\n",
       "</table>\n",
       "</div>"
      ],
      "text/plain": [
       "            Type                          Title             Director  \\\n",
       "Show ID                                                                \n",
       "1          Movie                        Sankofa         Haile Gerima   \n",
       "2        TV Show  The Great British Baking Show      Andy Devonshire   \n",
       "3          Movie                   The Starling       Theodore Melfi   \n",
       "4          Movie                   Je Suis Karl  Christian Schwochow   \n",
       "5          Movie                          Jeans           S. Shankar   \n",
       "\n",
       "                                                      Cast  \\\n",
       "Show ID                                                      \n",
       "1        Kofi Ghanaba, Oyafunmike Ogunlano, Alexandra D...   \n",
       "2        Mel Giedroyc, Sue Perkins, Mary Berry, Paul Ho...   \n",
       "3        Melissa McCarthy, Chris O'Dowd, Kevin Kline, T...   \n",
       "4        Luna Wedler, Jannis Niewöhner, Milan Peschel, ...   \n",
       "5        Prashanth, Aishwarya Rai Bachchan, Sri Lakshmi...   \n",
       "\n",
       "                                                   Country  Release_year  \\\n",
       "Show ID                                                                    \n",
       "1        United States, Ghana, Burkina Faso, United Kin...          1993   \n",
       "2                                           United Kingdom          2021   \n",
       "3                                            United States          2021   \n",
       "4                                  Germany, Czech Republic          2021   \n",
       "5                                                    India          1998   \n",
       "\n",
       "        Rating   Duration                                         Listed_in  \\\n",
       "Show ID                                                                       \n",
       "1        TV-MA    125 min  Dramas, Independent Movies, International Movies   \n",
       "2        TV-14  9 Seasons                      British TV Shows, Reality TV   \n",
       "3        PG-13    104 min                                  Comedies, Dramas   \n",
       "4        TV-MA    127 min                      Dramas, International Movies   \n",
       "5        TV-14    166 min   Comedies, International Movies, Romantic Movies   \n",
       "\n",
       "                                               Description    Added_date  \\\n",
       "Show ID                                                                    \n",
       "1        On a photo shoot in Ghana, an American model s...  September 24   \n",
       "2        A talented batch of amateur bakers face off in...  September 24   \n",
       "3        A woman adjusting to life after a loss contend...  September 24   \n",
       "4        After most of her family is murdered in a terr...  September 23   \n",
       "5        When the father of the man she loves insists t...  September 21   \n",
       "\n",
       "        Added_year  \n",
       "Show ID             \n",
       "1             2021  \n",
       "2             2021  \n",
       "3             2021  \n",
       "4             2021  \n",
       "5             2021  "
      ]
     },
     "execution_count": 73,
     "metadata": {},
     "output_type": "execute_result"
    }
   ],
   "source": [
    "#Your code here\n",
    "# netflixDataset = ...\n",
    "netflixDataset[[\"Added_date\", \"Added_year\"]] = netflixDataset[\"Date_added\"].str.split(\",\", expand = True)\n",
    "netflixDataset = netflixDataset.drop(['Date_added'], axis=1) #drop dateAdded. \n",
    "netflixDataset.head(5)\n",
    "\n"
   ]
  },
  {
   "cell_type": "code",
   "execution_count": 74,
   "metadata": {},
   "outputs": [
    {
     "data": {
      "text/html": [
       "<p><strong><pre style='display: inline;'>Q7</pre></strong> passed!</p>"
      ],
      "text/plain": [
       "Q7 results: All test cases passed!"
      ]
     },
     "execution_count": 74,
     "metadata": {},
     "output_type": "execute_result"
    }
   ],
   "source": [
    "grader.check(\"Q7\")"
   ]
  },
  {
   "cell_type": "markdown",
   "metadata": {},
   "source": [
    "**Question 8 :** Now that we are done with cleaning our data lets generate some useful visualizations from it.<br/>You are to analyse if the platform hosts more movies as compared to that of TV shows by the help of suitable visualization.<br/> Also you should justify the visualization you are using in the cell below. Store the count for the number of movies and the number of TV shows inside the variable `numberOfMovies` & `numberOfTvShows` respectively."
   ]
  },
  {
   "cell_type": "code",
   "execution_count": 75,
   "metadata": {},
   "outputs": [
    {
     "data": {
      "image/png": "[encoded data removed]",
      "text/plain": [
       "<Figure size 360x360 with 1 Axes>"
      ]
     },
     "metadata": {
      "needs_background": "light"
     },
     "output_type": "display_data"
    }
   ],
   "source": [
    "#Your code here\n",
    "\n",
    "\n",
    "numberOfMovies = (netflixDataset.Type.values == 'Movie').sum()\n",
    "numberOfTvShows = (netflixDataset.Type.values == 'TV Show').sum()\n",
    "\n",
    "\n",
    "#Use a bar graph to visualize the number of Movies and number of TV Shows. \n",
    "#It is a good visualization since it allows us to view, at a glance the difference in both values.  \n",
    "xAxis = ['numberOfMovies', 'numberOfTvShows']\n",
    "yAxis = [numberOfMovies, numberOfTvShows]\n",
    "plt.figure(figsize=(5,5))\n",
    "plt.bar(xAxis, yAxis, width = 0.5)\n",
    "plt.title( \"Number of movies and number of TV Shows\")\n",
    "plt.ylabel('Number of Movies and TV Shows')\n",
    "plt.show()\n"
   ]
  },
  {
   "cell_type": "code",
   "execution_count": 76,
   "metadata": {},
   "outputs": [
    {
     "data": {
      "text/html": [
       "<p><strong><pre style='display: inline;'>Q8</pre></strong> passed!</p>"
      ],
      "text/plain": [
       "Q8 results: All test cases passed!"
      ]
     },
     "execution_count": 76,
     "metadata": {},
     "output_type": "execute_result"
    }
   ],
   "source": [
    "grader.check(\"Q8\")"
   ]
  },
  {
   "cell_type": "markdown",
   "metadata": {},
   "source": [
    "**Question 9 :** Now let us check which country is the one that does most of the content creating but for that we might need some to manipulate the data in some way. Follow the steps below to make a suitable visualization:\n",
    "<ul>\n",
    "<li>Make a dictionary `countries` that stores the counts of how much times a country appears corresponding to a movie or a Tv show. </li>\n",
    "<li>Remember that you would have to split the strings in the column as multiple countries might be collaborating to make a movie or a Tv show. </li>\n",
    "<li>Use the dictonary and the respective counts to make a plot that will show us that which country creates the most content that is hosted by netflix </li>\n",
    "</ul>\n",
    "<b>Note: </b>Be mindful of the extra spaces that you will get while splitting the data so you would have to get rid of any extra spaces that you will get in the process. <br/>\n",
    "The helpful functions that you can use are str.replace(), str.rstrip(), str.strip() & str.lstrip().\n"
   ]
  },
  {
   "cell_type": "code",
   "execution_count": 77,
   "metadata": {},
   "outputs": [
    {
     "data": {
      "image/png": "[encoded data removed]",
      "text/plain": [
       "<Figure size 3600x360 with 1 Axes>"
      ]
     },
     "metadata": {
      "needs_background": "light"
     },
     "output_type": "display_data"
    }
   ],
   "source": [
    "#Your code here\n",
    "\n",
    "temp = [word.strip().replace(\" \", \"\") for word in netflixDataset['Country'].str.split(',', expand = True).stack()]\n",
    "x, y = np.unique(temp, return_counts=True)\n",
    "# print(x,y)\n",
    "countries = dict(zip(x,y))\n",
    "\n",
    "# dict(sorted(countries.items(), key=lambda y: y[1], reverse=True))\n",
    "# # print(t)\n",
    "# print(list(countries.values()))\n",
    "# print(list(countries.keys()))\n",
    "del countries[\"\"]\n",
    "\n",
    "plt.figure(figsize=(50,5))\n",
    "plt.bar(x, y)\n",
    "plt.title( \"Number of Movies/V Shows by Each Country\")\n",
    "plt.ylabel('Number of Movies and TTV Shows')\n",
    "plt.xlabel('Country Name')\n",
    "plt.show()"
   ]
  },
  {
   "cell_type": "code",
   "execution_count": 78,
   "metadata": {},
   "outputs": [
    {
     "data": {
      "text/html": [
       "<p><strong><pre style='display: inline;'>Q9</pre></strong> passed!</p>"
      ],
      "text/plain": [
       "Q9 results: All test cases passed!"
      ]
     },
     "execution_count": 78,
     "metadata": {},
     "output_type": "execute_result"
    }
   ],
   "source": [
    "grader.check(\"Q9\")"
   ]
  },
  {
   "cell_type": "markdown",
   "metadata": {},
   "source": [
    "**Question 10 :** Now we will analyse the duration of movies and check what is the optimal value for a standard movie on the platform of netflix.<br/>You have studied about kde plots in the lectures of EDA so make a suitable kde plot to visualize and report the most probable duration of movies hosted on the platform. Remember to filter the dataset such that you only have movies in it. <br/>Store the resultant df in the variable `netflixMovies`. Also you would have to convert the strings in the `Duration` column to integers before plotting them using a kde plot."
   ]
  },
  {
   "cell_type": "code",
   "execution_count": 81,
   "metadata": {},
   "outputs": [
    {
     "name": "stderr",
     "output_type": "stream",
     "text": [
      "C:\\Users\\DELL\\AppData\\Local\\Temp\\ipykernel_14896\\942410805.py:5: SettingWithCopyWarning: \n",
      "A value is trying to be set on a copy of a slice from a DataFrame.\n",
      "Try using .loc[row_indexer,col_indexer] = value instead\n",
      "\n",
      "See the caveats in the documentation: https://pandas.pydata.org/pandas-docs/stable/user_guide/indexing.html#returning-a-view-versus-a-copy\n",
      "  netflixMovies['Duration'] = netflixMovies['Duration'].str.replace(\" min\", \"\") #remove min part.\n",
      "C:\\Users\\DELL\\AppData\\Local\\Temp\\ipykernel_14896\\942410805.py:6: SettingWithCopyWarning: \n",
      "A value is trying to be set on a copy of a slice from a DataFrame.\n",
      "Try using .loc[row_indexer,col_indexer] = value instead\n",
      "\n",
      "See the caveats in the documentation: https://pandas.pydata.org/pandas-docs/stable/user_guide/indexing.html#returning-a-view-versus-a-copy\n",
      "  netflixMovies['Duration'] = netflixMovies['Duration'].dropna().astype('int')\n"
     ]
    },
    {
     "data": {
      "text/plain": [
       "<seaborn.axisgrid.FacetGrid at 0x270ae948940>"
      ]
     },
     "execution_count": 81,
     "metadata": {},
     "output_type": "execute_result"
    },
    {
     "data": {
      "image/png": "[encoded data removed]",
      "text/plain": [
       "<Figure size 360x360 with 1 Axes>"
      ]
     },
     "metadata": {
      "needs_background": "light"
     },
     "output_type": "display_data"
    }
   ],
   "source": [
    "#Your code here\n",
    "# print(netflixDataset.shape )\n",
    "netflixMovies = netflixDataset[netflixDataset['Type'] == 'Movie']\n",
    "# print(netflixMovies.shape )\n",
    "netflixMovies['Duration'] = netflixMovies['Duration'].str.replace(\" min\", \"\") #remove min part. \n",
    "netflixMovies['Duration'] = netflixMovies['Duration'].dropna().astype('int')\n",
    "sns.displot(data=netflixMovies, x=netflixMovies['Duration'], kind ='kde') #create the kde graph. \n"
   ]
  },
  {
   "cell_type": "code",
   "execution_count": 82,
   "metadata": {},
   "outputs": [
    {
     "data": {
      "text/html": [
       "<p><strong><pre style='display: inline;'>Q10</pre></strong> passed!</p>"
      ],
      "text/plain": [
       "Q10 results: All test cases passed!"
      ]
     },
     "execution_count": 82,
     "metadata": {},
     "output_type": "execute_result"
    }
   ],
   "source": [
    "grader.check(\"Q10\")"
   ]
  },
  {
   "cell_type": "markdown",
   "metadata": {},
   "source": [
    "**Question 11 :** Repeat the same steps as done in Q9 for TV shows present in our `netflixDataset`."
   ]
  },
  {
   "cell_type": "code",
   "execution_count": 83,
   "metadata": {},
   "outputs": [
    {
     "name": "stdout",
     "output_type": "stream",
     "text": [
      "(147, 12)\n"
     ]
    },
    {
     "name": "stderr",
     "output_type": "stream",
     "text": [
      "C:\\Users\\DELL\\AppData\\Local\\Temp\\ipykernel_14896\\2610573019.py:4: SettingWithCopyWarning: \n",
      "A value is trying to be set on a copy of a slice from a DataFrame.\n",
      "Try using .loc[row_indexer,col_indexer] = value instead\n",
      "\n",
      "See the caveats in the documentation: https://pandas.pydata.org/pandas-docs/stable/user_guide/indexing.html#returning-a-view-versus-a-copy\n",
      "  netflixTvShows['Duration'] = netflixTvShows['Duration'].str.replace(\" Seasons\", \" \").str.replace(\"Season\", \"\").dropna().astype('int')\n"
     ]
    },
    {
     "data": {
      "text/plain": [
       "<seaborn.axisgrid.FacetGrid at 0x270ae9ae820>"
      ]
     },
     "execution_count": 83,
     "metadata": {},
     "output_type": "execute_result"
    },
    {
     "data": {
      "image/png": "[encoded data removed]",
      "text/plain": [
       "<Figure size 360x360 with 1 Axes>"
      ]
     },
     "metadata": {
      "needs_background": "light"
     },
     "output_type": "display_data"
    }
   ],
   "source": [
    "#Your code here\n",
    "netflixTvShows = netflixDataset[netflixDataset['Type'] == 'TV Show']\n",
    "print(netflixTvShows.shape)\n",
    "netflixTvShows['Duration'] = netflixTvShows['Duration'].str.replace(\" Seasons\", \" \").str.replace(\"Season\", \"\").dropna().astype('int')\n",
    "sns.displot(data=netflixTvShows, x=netflixTvShows['Duration'], kind ='kde')\n",
    "\n",
    "\n"
   ]
  },
  {
   "cell_type": "code",
   "execution_count": 84,
   "metadata": {},
   "outputs": [
    {
     "data": {
      "text/html": [
       "<p><strong><pre style='display: inline;'>Q11</pre></strong> passed!</p>"
      ],
      "text/plain": [
       "Q11 results: All test cases passed!"
      ]
     },
     "execution_count": 84,
     "metadata": {},
     "output_type": "execute_result"
    }
   ],
   "source": [
    "grader.check(\"Q11\")"
   ]
  },
  {
   "cell_type": "markdown",
   "metadata": {},
   "source": [
    "**Question 12 :** Lets now categorise and see which type of ratings is watched the most by people using netflix with the help of a suitable visualization. Make use of the variable `netflixMovies` and a plot to ellaborate on your findings. Also you are to store the most watched movie rating inside the variable `mostWatchedMovieRating`. \n"
   ]
  },
  {
   "cell_type": "code",
   "execution_count": 114,
   "metadata": {},
   "outputs": [
    {
     "data": {
      "text/plain": [
       "'TV-MA'"
      ]
     },
     "execution_count": 114,
     "metadata": {},
     "output_type": "execute_result"
    }
   ],
   "source": [
    "#Your code here\n",
    "mostWatchedMovieRating = ...\n",
    "temp = netflixMovies.groupby(['Rating']).count()\n",
    "mostWatchedMovieRating = pd.Series(temp.Duration).idxmax()\n",
    "# mostWatchedMovieRating"
   ]
  },
  {
   "cell_type": "code",
   "execution_count": 115,
   "metadata": {},
   "outputs": [
    {
     "data": {
      "text/html": [
       "<p><strong><pre style='display: inline;'>Q12</pre></strong> passed!</p>"
      ],
      "text/plain": [
       "Q12 results: All test cases passed!"
      ]
     },
     "execution_count": 115,
     "metadata": {},
     "output_type": "execute_result"
    }
   ],
   "source": [
    "grader.check(\"Q12\")"
   ]
  },
  {
   "cell_type": "markdown",
   "metadata": {},
   "source": [
    "**Question 13 :** Do the same for the TV shows that are offered by netflix and then report the most watched TV show rating in the variable `mostWatchedTvRating`. You are to also include the visualization as made in Q11."
   ]
  },
  {
   "cell_type": "code",
   "execution_count": 116,
   "metadata": {},
   "outputs": [],
   "source": [
    "#Your code here\n",
    "mostWatchedTvRating = ...\n",
    "tvTemp = netflixMovies.groupby(['Rating']).count()\n",
    "mostWatchedTvRating = pd.Series(tvTemp.Duration).idxmax()"
   ]
  },
  {
   "cell_type": "code",
   "execution_count": 117,
   "metadata": {},
   "outputs": [
    {
     "data": {
      "text/html": [
       "<p><strong><pre style='display: inline;'>Q13</pre></strong> passed!</p>"
      ],
      "text/plain": [
       "Q13 results: All test cases passed!"
      ]
     },
     "execution_count": 117,
     "metadata": {},
     "output_type": "execute_result"
    }
   ],
   "source": [
    "grader.check(\"Q13\")"
   ]
  },
  {
   "cell_type": "markdown",
   "metadata": {},
   "source": [
    "**Question 14 :** What other meaningful insights could you have extracted from this dataset apart from what you did in this assignment? Also, comment on the quality of data available and give suggestions on how the data could have been better.\n",
    "\n",
    "*Answering Guidelines:* \n",
    "* a placeholder for your answer has been made - simply add your answer in the markdown cell below as instructed."
   ]
  },
  {
   "cell_type": "markdown",
   "metadata": {},
   "source": []
  }
 ],
 "metadata": {
  "kernelspec": {
   "display_name": "Python 3.9.13 64-bit (microsoft store)",
   "language": "python",
   "name": "python3"
  },
  "language_info": {
   "codemirror_mode": {
    "name": "ipython",
    "version": 3
   },
   "file_extension": ".py",
   "mimetype": "text/x-python",
   "name": "python",
   "nbconvert_exporter": "python",
   "pygments_lexer": "ipython3",
   "version": "3.9.13"
  },
  "orig_nbformat": 4,
  "vscode": {
   "interpreter": {
    "hash": "970a2a4939579a4c22872227820a264ec023ee5692739211cbaca24386397975"
   }
  }
 },
 "nbformat": 4,
 "nbformat_minor": 2
}
